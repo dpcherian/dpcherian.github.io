{
 "cells": [
  {
   "cell_type": "markdown",
   "metadata": {},
   "source": [
    "# DS3: Solving the three-body problem\n",
    "\n",
    "Fill in this notebook in the spaces provided to solve the three-body problem. The fundamental method is exactly the same as we did in the classes with the harmonic oscillator or the one-body problem. "
   ]
  },
  {
   "cell_type": "code",
   "execution_count": null,
   "metadata": {},
   "outputs": [],
   "source": [
    "from vpython import *\n",
    "scene = canvas()                 # This line makes the output show below this cell"
   ]
  },
  {
   "cell_type": "markdown",
   "metadata": {},
   "source": [
    "# Setting up the stage for Visual Python\n",
    "\n",
    "In this part we'll begin by setting up the stage. In this first cell below, we will define all the physical constants that we need. "
   ]
  },
  {
   "cell_type": "code",
   "execution_count": null,
   "metadata": {},
   "outputs": [],
   "source": [
    "# Values of physical constants that we will need\n",
    "\n",
    "G=6.673e-11                       # Defining Newton's Gravitational Constant\n",
    "myPi = 3.141592                   # Value of pi used\n",
    "sun_mass = 2e30                   # The mass of the sun in kilograms\n",
    "earth_mass = 6e24                 # The mass of the earth in kilograms\n",
    "\n",
    "boost=1.0                         # Allow for increasing Jupiter's mass by a factor\n",
    "\n",
    "jupiter_mass=boost*1.9e27         # Jupiter's mass\n",
    "\n",
    "# Values required for initial conditions\n",
    "\n",
    "AU = 149.6e9                      # The mean earth-sun orbital distance\n",
    "\n",
    "earth_vel  = 2 * myPi * 1  *AU/(365.25 *24. *60.*60.)    # Average velocity of the Earth = 2*Pi*R/T\n",
    "jupiter_vel= 2 * myPi * 5.2*AU/(11.86*365.25*24.*60.*60) # Average velocity of Jupiter"
   ]
  },
  {
   "cell_type": "markdown",
   "metadata": {},
   "source": [
    "### Defining the initial conditions\n",
    "\n",
    "As we've discussed in class, we need to specify the initial positions and initial velocities of all the objects. In this program, let us assume that the sun is initially at 'rest', and at the origin.\n",
    "\n",
    "`sun_pos_vector = vector(0,0,0)`\n",
    "\n",
    "`sun_vel_vector = vector(0,0,0)`\n",
    "\n",
    "We'll set the Earth and Jupiter to their associated distances from the sun, and let's assume that their initial velocities are only in the $y$ direction:\n",
    "\n",
    "`earth_pos_vector = vector(AU,0,0)`\n",
    "\n",
    "`earth_vel_vector = vector(0,earth_vel,0)`\n",
    "\n",
    "`jupiter_pos_vector = vector(5.2*AU,0,0)`\n",
    "\n",
    "`jupiter_vel_vector = vector(0,jupiter_vel,0)`"
   ]
  },
  {
   "cell_type": "code",
   "execution_count": null,
   "metadata": {},
   "outputs": [],
   "source": [
    "# Defining the initial conditions as vectors\n",
    "\n",
    "sun_pos_vector = vector(0,0,0)\n",
    "sun_vel_vector = vector(0,0,0)\n",
    "\n",
    "earth_pos_vector = vector(AU,0,0)\n",
    "earth_vel_vector = vector(0,earth_vel,0)\n",
    "\n",
    "jupiter_pos_vector = vector(5.2*AU,0,0)\n",
    "jupiter_vel_vector = vector(0,jupiter_vel,0)"
   ]
  },
  {
   "cell_type": "markdown",
   "metadata": {},
   "source": [
    "### Defining VPython objects"
   ]
  },
  {
   "cell_type": "markdown",
   "metadata": {},
   "source": [
    "Let us now go one step further and define the scene. This consists of a background (called the `scene`) which can have properties like colour and a width (or `range`), and a set of 3D structures likes `box`es, `sphere`s, `cone`s and so on. You can find out more information about them [here](https://www.glowscript.org/docs/VPythonDocs/index.html). There are also some short [instructional videos on Youtube](https://www.youtube.com/user/VPythonVideos/videos) which could be very helpful.\n",
    "\n",
    "We will be defining the objects in our 'solar system' (the Sun, Earth, and Jupiter) as being `sphere`s. A VPython sphere requires some information to be defined. It needs to be given \n",
    "1. A position or `pos`, which is a vpython `vector` object, \n",
    "2. A `radius`, which is simply a number. (If this is not given, it sets a default radius.)\n",
    "3. A `color`, which is a vpython color object (given by `color.{color_name}`)\n",
    "\n",
    "Now, we can also define other attributes that this `sphere` possesses. In particular, we could define a `velocity` and `mass`, even though none of these quantities are predefined. These will not affect what the sphere does or looks like, they are simply numbers (or vectors) which can be called by `{sphere_name}.mass` or `{sphere_name}.velocity`.\n",
    "\n",
    "Once you have finished reading and understanding the next cell, run all the cells up to it. When you're done, you should see an image above the **first cell** of this notebook which is a (static) solar system!\n",
    "\n"
   ]
  },
  {
   "cell_type": "code",
   "execution_count": null,
   "metadata": {},
   "outputs": [],
   "source": [
    "# Setting up the background.\n",
    "\n",
    "scene.background = color.white          # Setting the background colour\n",
    "scene.autoscale = False                 # Don't scale the scene size automatically\n",
    "scene.range = 10*AU                     # The extent of the region of interest to the left or right of center.\n",
    "\n",
    "# Defining the objects that make up our 'solar system'\n",
    "\n",
    "sun = sphere(pos = vector(0,0,0),       # The sun is placed at the origin\n",
    "             velocity = vector(0,0,0),  # A new variable (you could just call this v)\n",
    "             mass=sun_mass,             # A new variable (you could just call this m)\n",
    "             radius = 0.1*AU,           # The radius of the sun (NOT ACCURATE!)\n",
    "             color =color.yellow)       # The colour of the sun (... what do _you_ think?)\n",
    "\n",
    "# We now do exactly the same thing for the Earth and Jupiter below\n",
    "\n",
    "earth = sphere(pos= vector(AU, 0, 0), velocity = vector(0,earth_vel,0), mass=earth_mass, radius=0.05*AU, color =color.cyan)\n",
    "jupiter=sphere(pos=vector(5.2*AU,0,0),velocity=vector(0,jupiter_vel,0), mass=jupiter_mass, radius=0.15*AU, color=color.red)\n",
    "\n",
    "# Note:  The radius of sun, jupiter  and earth are NOT their true radii! \n",
    "#        These are the radii of the spherical object that will be drawn \n",
    "#        on the computer screen."
   ]
  },
  {
   "cell_type": "markdown",
   "metadata": {},
   "source": [
    "# Exercise 1: Adding new properties to VPython objects\n",
    "\n",
    "Let us now do two simple things: we'll begin by creating a list of objects that comprise our solar system, and we will assign to **each** of them a *new* variable, called `acc` which is a `vector`, and which is initially zero in all directions.\n",
    "\n",
    "We will also define a variable called `track` which is a curve of the same colour as the object that will record the trajectory of the moving object."
   ]
  },
  {
   "cell_type": "code",
   "execution_count": null,
   "metadata": {},
   "outputs": [],
   "source": [
    "#Create a list of objects making up our solar system \n",
    "#and add attributes for their accelaration and orbits\n",
    "\n",
    "bodies =                           # <=== Create a list of objects in our solar system\n",
    "\n",
    "for b in bodies:                   # For each object in `bodies`, \"b\",\n",
    "    b.acc =                        # <=== Assign a variable called `acc` which is a (zero) vector\n",
    "    b.track=curve(color = b.color) # <=== Assign another variable called track which is a curve with the same colour"
   ]
  },
  {
   "cell_type": "markdown",
   "metadata": {},
   "source": [
    "# Exercise 2: Setting up the dynamics\n",
    "\n",
    "In this part of the exercise, you will define the dynamics of the system, using Newton's Law of Universal Gravitation. The law says that the gravitational force on an object of mass $m_A$ is given by\n",
    "\n",
    "$$F_\\text{grav} = \\frac{G m_A m_B}{|r_{AB}|^2} \\hat{r},$$\n",
    "\n",
    "where $r$ is the relative position between the two objects, $A$ and $B$, $\\vec{r} = \\vec{r_A}-\\vec{r_B}.$ Now, from Newton's Second Law of motion, we know that the force on the mass $A$ is given by \n",
    "\n",
    "$$\\vec{F}_A = m_A \\times \\vec{a}_A,$$ \n",
    "\n",
    "and therefore the acceleration that the mass $A$ experiences because of $B$ is: $$\\vec{a}_A = \\frac{G m_B}{|r_{AB}|^2}\\hat{r}.$$\n",
    "\n",
    "Now what about the acceleration that the mass $B$ experiences because of $A$? The force on $B$ due to $A$ is the same as before:\n",
    "\n",
    "$$F_\\text{grav} = \\frac{G m_A m_B}{|r_\\text{BA}|^2} \\hat{r},$$\n",
    "\n",
    "the difference is that the *acceleration* of $B$ due to $A$ is: $$\\vec{a}_B = \\frac{G m_A}{|r_\\text{BA}|^2}\\hat{r}.$$\n",
    "\n",
    "(Make sure you understand this sufficiently clearly.)\n",
    "\n",
    "## The net acceleration on an object\n",
    "\n",
    "Suppose now you have a bunch of objects ($A,B,C,\\dots$) all interacting with each other. Since force is a vector, the net force acting on the object $A$ due to all the others is: $$F_\\text{net} = \\vec{F}_{AB} + \\vec{F}_{AC} + \\vec{F}_{AD}\\dots$$\n",
    "\n",
    "Thus, the acceleration that $A$ experiences is \n",
    "\n",
    "$$a_A = \\frac{\\vec{F}_{AB}}{m_A} + \\frac{\\vec{F}_{AB}}{m_A} + \\dots.$$\n",
    "\n",
    "Using the form of the gravitational force law, we can see that \n",
    "\n",
    "$$a_A = \\frac{G m_B}{r_{AB}^2} + \\frac{G m_C}{r_{AC}^2} + \\dots, $$\n",
    "\n",
    "or in other words, you need to add the individual accelerations due to each of the other objects in the solar system. This is an important point, make sure you understand it.\n",
    "\n",
    "In the cell below, the function `acc(a,b)` accepts two vpython objects `a` and `b` calculates the acceleration of the object `a` due to the object `b`. The `totalacc(a,objlist)` function accepts a vpython object `a` and a list `objlist` and calculates the acceleration on `a` due to all the objects in `objlist` (except `a`).\n",
    "\n",
    "Some useful functions are: \n",
    "- `{vector_name}.mag` which returns the magnitude of a vpython vector\n",
    "- `{vector_name}.mag2` which returns the magnitude squared of a vpython vector\n",
    "- `norm({vector_name})` which returns a unit vector in the direction of the vector"
   ]
  },
  {
   "cell_type": "code",
   "execution_count": null,
   "metadata": {},
   "outputs": [],
   "source": [
    "def acc(a, b):  # This function calculates the acceleration of an object a due\n",
    "                # to an object b. This function accepts two vpython variables.\n",
    "    \n",
    "    rel_pos =   # <=== Find the relative position of a and b. (You can use the \n",
    "                #      fact that the position of a can be given by a.pos, which\n",
    "                #      returns a vpython array <x,y,z>.\n",
    "    \n",
    "    g_a =       # <=== Now, use Newton's gravitational law to calculate the acceleration\n",
    "                #      of a, using the formula.\n",
    "    \n",
    "    return g_a  #  Returns a vpython array of acceleration. G*b.mass * norm(rel_pos)/rel_pos.mag2\n",
    "\n",
    "\n",
    "# We will now define a function that calculates the total acceleration on an object\n",
    "# a, due to all the other objects that are *not* a.\n",
    "\n",
    "def totalacc(a, objlist):\n",
    "    sum_acc = vector(0,0,0)                # The total acceleration is intitially given a vector value of <0,0,0>\n",
    "    \n",
    "    for b in objlist:                      # For every element in the list of objects...\n",
    "        if (a!=b):                         # As long as the object is not a\n",
    "            sum_acc = sum_acc + acc(a, b)  # Find a's acceleration due to the object, and add it to the sum.\n",
    "    return sum_acc                         # When this is done, return the total acceleration."
   ]
  },
  {
   "cell_type": "markdown",
   "metadata": {},
   "source": [
    "## Going to the centre of mass frame\n",
    "\n",
    "It turns out that the centre of mass frame is much easier to actually study this system, as in this frame the total momentum of system is zero. As we began by assuming that the sun was at rest and the planets moving around it, going to the centre of mass frame simply requires us to calculate the total momentum of the Earth and Jupiter, and to give the sun the negative of that momentum, so that the total momentum of the system is zero.\n",
    "\n",
    "This may not seem like a big deal to the Sun-Earth-Jupiter system since the centre of mass of this system is very close to the centre of the sun, but it will certainly be important if you considered -- for example -- a binary star system."
   ]
  },
  {
   "cell_type": "code",
   "execution_count": null,
   "metadata": {},
   "outputs": [],
   "source": [
    "sum_momentum = vector(0,0,0)\n",
    "\n",
    "for b in bodies:\n",
    "    if (b!=sun):\n",
    "        sum_momentum = sum_momentum +b.mass*b.velocity\n",
    "\n",
    "sun.velocity = - sum_momentum/sun.mass"
   ]
  },
  {
   "cell_type": "markdown",
   "metadata": {},
   "source": [
    "## Setting the time-step\n",
    "\n",
    "This is pretty self-evident, I hope."
   ]
  },
  {
   "cell_type": "code",
   "execution_count": null,
   "metadata": {},
   "outputs": [],
   "source": [
    "dt = 3000.*60.      # The time-step dt corresponds to 3000 mins here"
   ]
  },
  {
   "cell_type": "markdown",
   "metadata": {},
   "source": [
    "# Exercise 3: Solving the Kinematics\n",
    "\n",
    "This last part of the code involves the actual mechanics of solving the equation. We begin by initialising the velocities of each of the objects as done in the leap-frog method.\n",
    "\n",
    "We then begin an infinite loop which updates the positions of each of the bodies depending on their instantaneous velocities, and also the velocities of each of the bodies depending on their instantaneous accelerations. The accelerations are calculated by the function we defined earlier, and uses the instantaneous positions of all the objects. Spend some time looking at this and trying to understand it."
   ]
  },
  {
   "cell_type": "code",
   "execution_count": null,
   "metadata": {},
   "outputs": [],
   "source": [
    "# Let's begin by initialising the leap-frog by finding the velocites at t=dt/2\n",
    "\n",
    "for b in bodies:       \n",
    "    b.velocity = # <=== Initialise the velocity of each element `b` in the \n",
    "                 #      list `bodies` using the leap-frog method\n",
    "\n",
    "# We are now ready to start the leap-frog method\n",
    "\n",
    "while(True):     # Running an infinite loop\n",
    "    rate(50)     # This limits the number of loops in a second (in this case, 50)\n",
    "    \n",
    "    for b in bodies:\n",
    "        # Fill in this loop\n",
    "                                 # <=== Update the positions\n",
    "                                 # <=== Update the velocities\n",
    "        b.track.append(pos=b.pos)# This line updates the tracking curve's position \n",
    "        \n",
    "\n",
    "    scene.center = vector(0,0,0) # This centres the view on the origin of the coordinate system after every loop.\n"
   ]
  }
 ],
 "metadata": {
  "kernelspec": {
   "display_name": "Python 3",
   "language": "python",
   "name": "python3"
  },
  "language_info": {
   "codemirror_mode": {
    "name": "ipython",
    "version": 3
   },
   "file_extension": ".py",
   "mimetype": "text/x-python",
   "name": "python",
   "nbconvert_exporter": "python",
   "pygments_lexer": "ipython3",
   "version": "3.8.5"
  }
 },
 "nbformat": 4,
 "nbformat_minor": 2
}
