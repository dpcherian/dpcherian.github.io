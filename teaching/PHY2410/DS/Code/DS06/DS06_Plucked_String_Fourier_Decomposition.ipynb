{
 "cells": [
  {
   "cell_type": "code",
   "execution_count": null,
   "metadata": {},
   "outputs": [],
   "source": [
    "# Code to visualise the Fourier Decomposition of a plucked string\n",
    "# Don't run all the cells simulatenously, run them one after another\n",
    "\n",
    "import numpy as np\n",
    "import matplotlib.pyplot as plt\n",
    "plt.rcParams['figure.dpi'] = 200\n",
    "\n",
    "from matplotlib.animation import FuncAnimation"
   ]
  },
  {
   "cell_type": "code",
   "execution_count": null,
   "metadata": {},
   "outputs": [],
   "source": [
    "# A set of functions which, given certain parameters (location of plucking (a), height (h), a string-position vector (x)) computes different coefficients\n",
    "def plucked(a, h, x):                                       # Function produces the initial condition on the string, a linear ramp, first up, then down\n",
    "    f0 = np.zeros(len(x))\n",
    "    L = max(x)\n",
    "    \n",
    "    f0[x<=a] = h/a * x[x<=a]\n",
    "    f0[x>=a]  = h/2 - h/(L-a) * ( x[x>=a] - (L+a)/2)\n",
    "    \n",
    "    return f0\n",
    "\n",
    "def plucked_coefficients(n,a,h,x):                          # Function that returns the coefficient of the plucked string's Fourier series\n",
    "    L = max(x)\n",
    "    return (2/L)*h*(-L *np.sin(a*n*np.pi) + a * np.sin(L*n*np.pi))/(a*(a-L)*n**2 *np.pi**2)\n",
    "\n",
    "\n",
    "def mode_with_time(t,n,a,h,x, with_actual_amplitude=True): # A single normal mode with time dependence. Can either return the mode with a constant amplitude of 0.4\n",
    "    L = max(x)                                              # or the actual amplitude (in terms of its contribution to the Fourier series)\n",
    "    if(with_actual_amplitude):\n",
    "        return (2/L)*h*(-L *np.sin(a*n*np.pi) + a * np.sin(L*n*np.pi))/(a*(a-L)*n**2 *np.pi**2)*np.sin(n*np.pi*x/L)*np.cos(n*np.pi*t/L)\n",
    "    else:\n",
    "        return 0.4*np.sin(n*np.pi*x/L)*np.cos(n*np.pi*t/L)\n",
    "\n",
    "def summed_coefficients(N,a,h,x):                           # Recursive function that returns the summed coefficients up to some N\n",
    "    L = max(x)\n",
    "    if(N==0):\n",
    "        return 0\n",
    "    \n",
    "    return plucked_coefficients(N,a,h,x)*np.sin(N*np.pi*x/L) + summed_coefficients(N-1,a,h,x)\n",
    "\n",
    "def summed_coefficients_with_time(t,N,a,h,x):               # Recursive function that returns the summed coefficients with time dependence up to some N. \n",
    "    L = max(x)                                              # This is just an approximation of the full time-dependent solution\n",
    "    if(N==0):\n",
    "        return 0\n",
    "    \n",
    "    return plucked_coefficients(N,a,h,x)*np.sin(N*np.pi*x/L)*np.cos(N*np.pi*t/L) + summed_coefficients_with_time(t,N-1,a,h,x)"
   ]
  },
  {
   "cell_type": "code",
   "execution_count": null,
   "metadata": {},
   "outputs": [],
   "source": [
    "####### Plot the initial condition for different numbers of terms in the Fourier Series, just to see if it's working\n",
    "x = np.linspace(0,1,1000)\n",
    "alpha=0.9\n",
    "plt.plot(x, plucked(0.2,0.5,x), color='black',  label=r\"f(x)\", ls='dashdot',lw=2, alpha=1)\n",
    "plt.plot(x, summed_coefficients(1, 0.2,0.5,x),  label=r\"$N=1$ term\", ls='solid',color='tab:blue', alpha=alpha)\n",
    "plt.plot(x, summed_coefficients(3, 0.2,0.5,x),  label=r\"$N=3$ terms\", ls='solid',color='firebrick', alpha=alpha)\n",
    "plt.plot(x, summed_coefficients(10, 0.2,0.5,x), label=r\"$N=10$ terms\", ls='solid',color='darkgoldenrod', alpha=alpha)\n",
    "plt.plot(x, summed_coefficients(30, 0.2,0.5,x), label=r\"$N=30$ terms\", ls='solid',color='black', alpha=alpha)\n",
    "ylim = plt.ylim()\n",
    "plt.vlines(0.2,ylim[0],ylim[1], color='purple', ls='--')\n",
    "plt.gca().set_aspect(1)\n",
    "plt.legend()"
   ]
  },
  {
   "cell_type": "code",
   "execution_count": null,
   "metadata": {},
   "outputs": [],
   "source": [
    "%%time\n",
    "#### Solve the problem for 6 different different Ns (this takes a little time to run, around 30 seconds)\n",
    "\n",
    "T = 10                                                       # Total time\n",
    "n_steps = 5000                                               # Number of time-steps\n",
    "\n",
    "soln = np.zeros((6,n_steps, len(x)))                         # Array to store the full solution for each N, for each time-step, for each point\n",
    "modes= np.zeros((6,n_steps, len(x)))                         # Array to store each mode N with actual amplitude, for each time-step, for each point\n",
    "modes_with_constant_amplitude= np.zeros((6,n_steps, len(x))) # Array to store each mode N with a `normalised' amplitude, for each time-step for each point\n",
    "times = np.linspace(0,T,n_steps)                             # Array of time-steps\n",
    "\n",
    "Ns = [1,2,3,4,5,6]                                           # Different numbers of modes\n",
    "\n",
    "for j in range(len(Ns)):                                     # For each Ns and each instant of time, get the configuration of the string and save it in an array\n",
    "    for i in range(len(times)):\n",
    "        soln[j][i] = summed_coefficients_with_time(times[i], Ns[j],0.2,0.5,x) \n",
    "        modes[j][i] = mode_with_time(times[i], Ns[j],0.2,0.5,x) \n",
    "        modes_with_constant_amplitude[j][i] = mode_with_time(times[i], Ns[j],0.2,0.5,x, with_actual_amplitude=False) "
   ]
  },
  {
   "cell_type": "code",
   "execution_count": null,
   "metadata": {},
   "outputs": [],
   "source": [
    "# Defining a function to show animated plots, given an input array, and a couple of options. \n",
    "# The plot_titles option decides what the titles on each of the subplots will be. You can also\n",
    "# choose to save the animation, providing the name, dpi, and fps. The filename can specify exact \n",
    "# output folder, as well as the filetype.\n",
    "\n",
    "def show_animated_plots(array, plot_titles = \"individual\", save_animation = False, save_name=\"video.mp4\", save_dpi = 300, save_fps=100):\n",
    "    \n",
    "    if(plot_titles != \"individual\" and plot_titles != \"cumulative\"):\n",
    "        raise ValueError('The plot_titles variable can be either \"cumulative\" or \"individual\", no other options are currently supported')\n",
    "    \n",
    "    fig, axes = plt.subplots(nrows=2, ncols=3) # Create plot with 2 rows and 3 columns\n",
    "\n",
    "    colors = [['tab:blue', 'firebrick', 'darkgoldenrod'], ['olive','navy', 'black']]  # Default colours for plots\n",
    "\n",
    "    Nlabel = [[1,2,3],[4,5,6]]  # Labels for N per plot\n",
    "\n",
    "    plots = []                  # Array to actually store the plot objects\n",
    "\n",
    "    for row in range(len(axes)):                                          # Make the plots array a 1D array of len(Ns) items, \n",
    "        for col in range(len(axes[row])):                                 # each one being an individual plot object\n",
    "            ln, = axes[row][col].plot([], [], color=colors[row][col])\n",
    "            plots.append(ln)\n",
    "\n",
    "    def init():                                                           # Initialise the whole plot, set x and y limits, titles, and axes \n",
    "        for row in range(len(axes)):\n",
    "            for col in range(len(axes[row])):\n",
    "                axes[row][col].set_xlim(0, 1)\n",
    "                axes[row][col].set_ylim(-0.5, 0.5)\n",
    "                if(plot_titles == \"cumulative\"):\n",
    "                    axes[row][col].set_title(r\"Sum of \"+str(Nlabel[row][col])+ \" terms\", color=colors[row][col]) \n",
    "                elif(plot_titles == \"individual\"):\n",
    "                    axes[row][col].set_title(r\"Mode \"+str(Nlabel[row][col]), color=colors[row][col]) \n",
    "\n",
    "                axes[row][col].tick_params(top=False, bottom=False, left=False, right=False,                   # Remove all axes (they're unnecessary here)\n",
    "                    labelleft=False, labelbottom=False)\n",
    "        return plots\n",
    "\n",
    "    def animate(frame):                                  # For frame number `frame',\n",
    "        xdata = x\n",
    "        for i in range(len(Ns)):                         # for each N,\n",
    "            ydata = array[i][frame]                      # for every time-step, get the string's position data, and\n",
    "            plots[i].set_data(xdata, ydata)              # set each of the Ns plot to show the function at this step,\n",
    "        return plots                                     # and return all the plots to the FuncAnimation function\n",
    "\n",
    "    # Most important line, this is what actually handles the animation by calling the `animate' function with a frame number (integer)\n",
    "    ani = FuncAnimation(fig, animate, init_func=init, blit=True, frames=1000, interval=1, repeat=True)   # Code to create animations\n",
    "    \n",
    "    if(save_animation):                                  # If you wish to save the animation, do so with the dpi and fps set here \n",
    "        ani.save(save_name, dpi=save_dpi, fps=save_fps)\n",
    "\n",
    "    return ani                                           # When calling this FuncAnimation function from with a code, all the information that update the window \n",
    "                                                         # are attributes of the object ani. If you do not keep a reference to it around, then ani is garbage collected \n",
    "                                                         # all information about the graphs disappears when calling from within a function. You don't need this when you call \n",
    "                                                         # aren't calling the animation from within a function."
   ]
  },
  {
   "cell_type": "code",
   "execution_count": null,
   "metadata": {},
   "outputs": [],
   "source": [
    "plt.close()                                          # Close any previous plots\n",
    "%matplotlib notebook\n",
    "\n",
    "show_animated_plots(soln, plot_titles=\"cumulative\")"
   ]
  },
  {
   "cell_type": "code",
   "execution_count": null,
   "metadata": {},
   "outputs": [],
   "source": [
    "plt.close()                                          # Close any previous plots\n",
    "%matplotlib notebook\n",
    "show_animated_plots(modes, plot_titles=\"individual\")"
   ]
  },
  {
   "cell_type": "code",
   "execution_count": null,
   "metadata": {},
   "outputs": [],
   "source": [
    "plt.close()                                          # Close any previous plots\n",
    "%matplotlib notebook\n",
    "show_animated_plots(modes_with_constant_amplitude, plot_titles=\"individual\")"
   ]
  },
  {
   "cell_type": "code",
   "execution_count": null,
   "metadata": {},
   "outputs": [],
   "source": []
  }
 ],
 "metadata": {
  "kernelspec": {
   "display_name": "Python 3 (ipykernel)",
   "language": "python",
   "name": "python3"
  },
  "language_info": {
   "codemirror_mode": {
    "name": "ipython",
    "version": 3
   },
   "file_extension": ".py",
   "mimetype": "text/x-python",
   "name": "python",
   "nbconvert_exporter": "python",
   "pygments_lexer": "ipython3",
   "version": "3.8.10"
  }
 },
 "nbformat": 4,
 "nbformat_minor": 4
}
