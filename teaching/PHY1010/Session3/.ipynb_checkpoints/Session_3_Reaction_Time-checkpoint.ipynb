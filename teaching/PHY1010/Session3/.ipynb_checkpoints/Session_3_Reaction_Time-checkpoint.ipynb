{
 "cells": [
  {
   "cell_type": "code",
   "execution_count": 1,
   "metadata": {},
   "outputs": [],
   "source": [
    "# The code for Session 3 -- Error Analysis and Uncertainties\n",
    "# This code displays an image on the screen for a random amount of time before removing it\n",
    "# The images are located in the same folder. A random colour is picked every time.\n",
    "# Code written by Manpreet Kaur and Philip Cherian.\n",
    "\n",
    "import time\n",
    "import numpy as np\n",
    "import matplotlib.pyplot as plt\n",
    "import matplotlib.image as mpimg\n",
    "from IPython.display import HTML\n",
    "from IPython.display import clear_output"
   ]
  },
  {
   "cell_type": "code",
   "execution_count": 2,
   "metadata": {},
   "outputs": [],
   "source": [
    "# The following code (onbtained from https://stackoverflow.com/a/52664156) is used to show/hide a cell.\n",
    "# In this case, the \"actual\" time the photo is visible for (4.7s) will be hidden from the students so\n",
    "# that they are not influenced by this information. Once this cell is run, you can hide a cell using \n",
    "# the hide_toggle() function. A \"Toggle show/hide\" link will appear below the cell to be hidden (or shown).\n",
    "\n",
    "def hide_toggle(for_next=False):\n",
    "    this_cell = \"\"\"$('div.cell.code_cell.rendered.selected')\"\"\"\n",
    "    next_cell = this_cell + '.next()'\n",
    "\n",
    "    toggle_text = 'Toggle show/hide'  # text shown on toggle link\n",
    "    target_cell = this_cell  # target cell to control with toggle\n",
    "    js_hide_current = ''  # bit of JS to permanently hide code in current cell (only when toggling next cell)\n",
    "\n",
    "    if for_next:\n",
    "        target_cell = next_cell\n",
    "        toggle_text += ' next cell'\n",
    "        js_hide_current = this_cell + '.find(\"div.input\").hide();'\n",
    "\n",
    "    js_f_name = 'code_toggle_{}'.format(str(np.random.randint(1,2**64-1)))\n",
    "\n",
    "    html = \"\"\"\n",
    "        <script>\n",
    "            function {f_name}() {{\n",
    "                {cell_selector}.find('div.input').toggle();\n",
    "            }}\n",
    "\n",
    "            {js_hide_current}\n",
    "        </script>\n",
    "\n",
    "        <a href=\"javascript:{f_name}()\">{toggle_text}</a>\n",
    "    \"\"\".format(\n",
    "        f_name=js_f_name,\n",
    "        cell_selector=target_cell,\n",
    "        js_hide_current=js_hide_current, \n",
    "        toggle_text=toggle_text\n",
    "    )\n",
    "\n",
    "    return HTML(html)"
   ]
  },
  {
   "cell_type": "code",
   "execution_count": 3,
   "metadata": {},
   "outputs": [
    {
     "ename": "ValueError",
     "evalue": "high is out of bounds for int64",
     "output_type": "error",
     "traceback": [
      "\u001b[0;31m---------------------------------------------------------------------------\u001b[0m",
      "\u001b[0;31mValueError\u001b[0m                                Traceback (most recent call last)",
      "Input \u001b[0;32mIn [3]\u001b[0m, in \u001b[0;36m<module>\u001b[0;34m\u001b[0m\n\u001b[1;32m      1\u001b[0m \u001b[38;5;66;03m# This cell must be HIDDEN before being given to the students. The actual time the image is \u001b[39;00m\n\u001b[1;32m      2\u001b[0m \u001b[38;5;66;03m# shown for is 4.7 seconds. However, due to the processing delay of MatPlotLib, the actual \u001b[39;00m\n\u001b[1;32m      3\u001b[0m \u001b[38;5;66;03m# time may vary depending on the image size (an image with dpi of 500 could cause a delay of 2 seconds).\u001b[39;00m\n\u001b[1;32m      4\u001b[0m \u001b[38;5;66;03m# Keep this number slightly random and unexpected (not 4.5 or 5.0 or 3.5 etc.).\u001b[39;00m\n\u001b[1;32m      6\u001b[0m num \u001b[38;5;241m=\u001b[39m \u001b[38;5;241m4.7\u001b[39m\n\u001b[0;32m----> 7\u001b[0m \u001b[43mhide_toggle\u001b[49m\u001b[43m(\u001b[49m\u001b[43m)\u001b[49m\n",
      "Input \u001b[0;32mIn [2]\u001b[0m, in \u001b[0;36mhide_toggle\u001b[0;34m(for_next)\u001b[0m\n\u001b[1;32m     16\u001b[0m     toggle_text \u001b[38;5;241m+\u001b[39m\u001b[38;5;241m=\u001b[39m \u001b[38;5;124m'\u001b[39m\u001b[38;5;124m next cell\u001b[39m\u001b[38;5;124m'\u001b[39m\n\u001b[1;32m     17\u001b[0m     js_hide_current \u001b[38;5;241m=\u001b[39m this_cell \u001b[38;5;241m+\u001b[39m \u001b[38;5;124m'\u001b[39m\u001b[38;5;124m.find(\u001b[39m\u001b[38;5;124m\"\u001b[39m\u001b[38;5;124mdiv.input\u001b[39m\u001b[38;5;124m\"\u001b[39m\u001b[38;5;124m).hide();\u001b[39m\u001b[38;5;124m'\u001b[39m\n\u001b[0;32m---> 19\u001b[0m js_f_name \u001b[38;5;241m=\u001b[39m \u001b[38;5;124m'\u001b[39m\u001b[38;5;124mcode_toggle_\u001b[39m\u001b[38;5;132;01m{}\u001b[39;00m\u001b[38;5;124m'\u001b[39m\u001b[38;5;241m.\u001b[39mformat(\u001b[38;5;28mstr\u001b[39m(\u001b[43mnp\u001b[49m\u001b[38;5;241;43m.\u001b[39;49m\u001b[43mrandom\u001b[49m\u001b[38;5;241;43m.\u001b[39;49m\u001b[43mrandint\u001b[49m\u001b[43m(\u001b[49m\u001b[38;5;241;43m1\u001b[39;49m\u001b[43m,\u001b[49m\u001b[38;5;241;43m2\u001b[39;49m\u001b[38;5;241;43m*\u001b[39;49m\u001b[38;5;241;43m*\u001b[39;49m\u001b[38;5;241;43m64\u001b[39;49m\u001b[43m)\u001b[49m))\n\u001b[1;32m     21\u001b[0m html \u001b[38;5;241m=\u001b[39m \u001b[38;5;124m\"\"\"\u001b[39m\n\u001b[1;32m     22\u001b[0m \u001b[38;5;124m    <script>\u001b[39m\n\u001b[1;32m     23\u001b[0m \u001b[38;5;124m        function \u001b[39m\u001b[38;5;132;01m{f_name}\u001b[39;00m\u001b[38;5;124m() \u001b[39m\u001b[38;5;124m{{\u001b[39m\n\u001b[0;32m   (...)\u001b[0m\n\u001b[1;32m     35\u001b[0m     toggle_text\u001b[38;5;241m=\u001b[39mtoggle_text\n\u001b[1;32m     36\u001b[0m )\n\u001b[1;32m     38\u001b[0m \u001b[38;5;28;01mreturn\u001b[39;00m HTML(html)\n",
      "File \u001b[0;32mmtrand.pyx:746\u001b[0m, in \u001b[0;36mnumpy.random.mtrand.RandomState.randint\u001b[0;34m()\u001b[0m\n",
      "File \u001b[0;32m_bounded_integers.pyx:1251\u001b[0m, in \u001b[0;36mnumpy.random._bounded_integers._rand_int64\u001b[0;34m()\u001b[0m\n",
      "\u001b[0;31mValueError\u001b[0m: high is out of bounds for int64"
     ]
    }
   ],
   "source": [
    "# This cell must be HIDDEN before being given to the students. The actual time the image is \n",
    "# shown for is 4.7 seconds. However, due to the processing delay of MatPlotLib, the actual \n",
    "# time may vary depending on the image size (an image with dpi of 500 could cause a delay of 2 seconds).\n",
    "# Keep this number slightly random and unexpected (not 4.5 or 5.0 or 3.5 etc.).\n",
    "\n",
    "num = 4.7\n",
    "hide_toggle()\n",
    "\n",
    "# If this cell is hidden, and you \"Restart & Clear Output\", it may appear to disappear, just \"Restart & Run All\"."
   ]
  },
  {
   "cell_type": "code",
   "execution_count": null,
   "metadata": {},
   "outputs": [],
   "source": [
    "imageList = ['orange.png','blue.png','pink.png','purple.png','red.png'] # List of images to be shown randomly\n",
    "\n",
    "stall = np.random.randint(1,6) # A random number of seconds (between 1 and 5) elapses after the cell is run\n",
    "                            # and before the image is shown, so that students can prepare\n",
    "\n",
    "randomImage = imageList[np.random.randint(0,len(imageList))] # A random image is selected from the list\n",
    "\n",
    "imgplot = plt.imshow(mpimg.imread('white.png')) # Begin by showing the white image\n",
    "plt.axis('off')                                 # (without plot axes)\n",
    "plt.show()                                      # Displays the white image\n",
    "\n",
    "time.sleep(stall)                               # Delays for \"stall\" seconds, before\n",
    "clear_output(wait=True)                         # the output screen is cleared.\n",
    "\n",
    "imgplot = plt.imshow(mpimg.imread(randomImage)) # Show the randomImage\n",
    "plt.axis('off')                                 # (without axes)\n",
    "plt.show()                                      # Displays the image\n",
    "\n",
    "time.sleep(num)                                 # Keep this randomImage on screen for for \"num\" seconds \n",
    "                                                # (defined in the previous (hidden) cell)\n",
    "clear_output(wait=True)                         # Clear the output screen\n",
    "\n",
    "imgplot = plt.imshow(mpimg.imread('white.png')) # Display the white image again\n",
    "plt.axis('off')                                 # (without axes)\n",
    "plt.show()                                      # Displays the image   \n",
    "\n",
    "time.sleep(1)                                   # Stalls for a fixed time of 1 second, before closing\n",
    "clear_output(wait=True)                         # and clearing the output screen"
   ]
  },
  {
   "cell_type": "code",
   "execution_count": null,
   "metadata": {},
   "outputs": [],
   "source": []
  }
 ],
 "metadata": {
  "kernelspec": {
   "display_name": "Python 3 (ipykernel)",
   "language": "python",
   "name": "python3"
  },
  "language_info": {
   "codemirror_mode": {
    "name": "ipython",
    "version": 3
   },
   "file_extension": ".py",
   "mimetype": "text/x-python",
   "name": "python",
   "nbconvert_exporter": "python",
   "pygments_lexer": "ipython3",
   "version": "3.8.10"
  }
 },
 "nbformat": 4,
 "nbformat_minor": 2
}
