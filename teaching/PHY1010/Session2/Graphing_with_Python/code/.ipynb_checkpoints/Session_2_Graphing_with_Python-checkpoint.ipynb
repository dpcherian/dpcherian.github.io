{
 "cells": [
  {
   "cell_type": "markdown",
   "metadata": {},
   "source": [
    "# 2.4.2 Graphing with Python\n",
    "***\n",
    "\n",
    "**Contents**\n",
    "\n",
    "1. Getting the packages you need to get started\n",
    "1. Plotting and formatting your first graph\n",
    "1. Getting your data into the program\n",
    "1. Adding and formatting a trendline"
   ]
  },
  {
   "cell_type": "markdown",
   "metadata": {},
   "source": [
    "## Getting the packages you need\n",
    "\n",
    "Python `packages` are pre-written scripts that you can `call` with your program to help you do whatever it is you want to do. They come with pre-defined functions and values that you can use. For example, imagine you wanted the value of the constant $\\pi$.\n",
    "\n",
    "Run the cell below this one. You can run it either by clicking the `Run` button on the top (in the toolbar), or by pressing `Shift + Enter` simultaneously."
   ]
  },
  {
   "cell_type": "code",
   "execution_count": null,
   "metadata": {},
   "outputs": [],
   "source": [
    "pi"
   ]
  },
  {
   "cell_type": "markdown",
   "metadata": {},
   "source": [
    "You have now seen your first Python error. Get used to errors; this one will not be your last.\n",
    "\n",
    "You have asked Python to do something, and it does not understand what it is you have asked of it. As a result, it tells you where *it* thinks there's a problem and what the problem is (it's often right, but not always).\n",
    "\n",
    "In this case, it says the problem is on line 1 of the cell (`----> 1 pi`) and the error is that it does not understand what you mean by `pi`.\n",
    "\n",
    "Now compile the cell below:"
   ]
  },
  {
   "cell_type": "code",
   "execution_count": null,
   "metadata": {},
   "outputs": [],
   "source": [
    "import math\n",
    "math.pi"
   ]
  },
  {
   "cell_type": "markdown",
   "metadata": {},
   "source": [
    "We have `imported` the `math` package, a collection of standard mathematical values and functions. It contains, among other things, the value of `pi`, which we call by calling `math.pi`. \n",
    "\n",
    "Some packages have horribly long names, and it would be quite cumbersome to have to type them out everytime, so we give them 'nicknames'. \n",
    "\n",
    "See if you can understand the following code snippet:"
   ]
  },
  {
   "cell_type": "code",
   "execution_count": null,
   "metadata": {},
   "outputs": [],
   "source": [
    "import math as m\n",
    "m.pi"
   ]
  },
  {
   "cell_type": "markdown",
   "metadata": {},
   "source": [
    "**The NumPy package**\n",
    "\n",
    "NumPy (pronounced \"Num Pie\", not \"Num Pee\") is the fundamental package for scientific computing with Python. It contains almost all scientific functions that you require, and is optimised to be significantly faster than the usual Python functions for scientific operations.\n",
    "\n",
    "If we wish to call any functions it has, we will be using the `np` nickname. This is not essential, but it is common. Try the following:"
   ]
  },
  {
   "cell_type": "code",
   "execution_count": null,
   "metadata": {},
   "outputs": [],
   "source": [
    "import numpy as np\n",
    "np.pi"
   ]
  },
  {
   "cell_type": "markdown",
   "metadata": {},
   "source": [
    "**The MatPlotLib package**\n",
    "\n",
    "From the Matplotlib website:\n",
    "\n",
    "\"_Matplotlib tries to make easy things easy and hard things possible. You can generate plots, histograms, power spectra, bar charts, errorcharts, scatterplots, etc., with just a few lines of code_\".\n",
    "\n",
    "We will be using it to plot all our data. \n",
    "\n",
    "You will notice a strange line underneath this:\n",
    "`%matplotlib inline`\n",
    "\n",
    "This is magic, don't worry about it. It's a command that needs to be there so that figures can be printed \"inline\" in Jupyter notebook and be stored in the document."
   ]
  },
  {
   "cell_type": "markdown",
   "metadata": {},
   "source": [
    "**The SciPy package**\n",
    "\n",
    "SciPy (\"Sigh Pie\") is _another_ library of open-source software for mathematics, science, and engineering. We will be using it for **curve fitting**. \n",
    "\n",
    "You can now go ahead and import all the above packages using the cell below."
   ]
  },
  {
   "cell_type": "code",
   "execution_count": null,
   "metadata": {},
   "outputs": [],
   "source": [
    "import numpy as np                   # Importing the NumPy package\n",
    "\n",
    "import matplotlib.pyplot as plt      # Importing the Matplotlib package for plotting\n",
    "                                     # \"Magic\" to display images inline\n",
    "%matplotlib inline                   \n",
    "\n",
    "import scipy as scp                  # Importing the SciPy package\n",
    "from scipy.optimize import curve_fit # Importing the curve fitting module from SciPy"
   ]
  },
  {
   "cell_type": "markdown",
   "metadata": {},
   "source": [
    "## Plotting and formatting your first graph\n",
    "\n",
    "**Lists**\n",
    "\n",
    "Let's start off immediately with a simple plot. The basic syntax for creating line plots is `plt.plot(x,y)`, where x and y are lists _**of the same length**_ that specify the $(x, y)$ pairs that form the line. \n",
    "\n",
    "We can define a list by simply enclosing its elements within square brackets `[]`, like so:\n",
    "\n",
    "`listName = [element1, element2, element3]`"
   ]
  },
  {
   "cell_type": "markdown",
   "metadata": {},
   "source": [
    "***\n",
    "**Exercise 1:** \n",
    "***\n",
    "In the following empty cell, define two lists, `xtest` and `ytest`, where:\n",
    "\n",
    "`xtest` takes values 1, 2, and 3 <br>\n",
    "`ytest` takes values 100, 200, and 300"
   ]
  },
  {
   "cell_type": "code",
   "execution_count": null,
   "metadata": {},
   "outputs": [],
   "source": [
    "# EXERCISE 1 === Fill in this cell as instructed above\n",
    "\n",
    "xtest = # <== Insert a three-element list of x-values\n",
    "ytest = # <== Insert a three-element list of y-values"
   ]
  },
  {
   "cell_type": "markdown",
   "metadata": {},
   "source": [
    "**Your first plot**\n",
    "\n",
    "Run the following code snippet: it will create a line plot with the above $x$ and $y$ values you have defined. You should get a graph like this:\n",
    "\n",
    "![lineplot](../images/lineplot.png)"
   ]
  },
  {
   "cell_type": "code",
   "execution_count": null,
   "metadata": {},
   "outputs": [],
   "source": [
    "plt.plot(xtest,ytest)    # Plotting a 'line' plot of ytest vs. xtest\n",
    "\n",
    "\n",
    "plt.show()               # This function simply \"shows\" the graph.\n",
    "                         # it is not essential to understand how or why it works."
   ]
  },
  {
   "cell_type": "markdown",
   "metadata": {},
   "source": [
    "There you go, your first graph!\n",
    "\n",
    "Of course, as mentioned in the previous section on plotting with MS Excel, **you will never plot a line from your data**. Instead, you will more often use the `plt.scatter(x,y)` command.\n",
    "\n",
    "\n",
    "\n",
    "***\n",
    "**Exercise 2:** \n",
    "***\n",
    "In the following empty cell, insert one line to plot a `scatter` plot with the same data. After running it, you should get something like this:\n",
    "![scatterplot](../images/scatterplot.png)"
   ]
  },
  {
   "cell_type": "code",
   "execution_count": null,
   "metadata": {},
   "outputs": [],
   "source": [
    "# EXERCISE 2 === Fill in this cell as instructed above\n",
    "\n",
    "#<== Insert ONE line here to plot a 'scatter' plot of ytest vs. xtest\n",
    "    \n",
    "plt.show()       # This function simply \"shows\" the graph.\n",
    "                 # it is not essential to understand how or why it works,"
   ]
  },
  {
   "cell_type": "markdown",
   "metadata": {},
   "source": [
    "**Formatting your graph**\n",
    "\n",
    "You will notice that it is still incomplete, you will need to label the axes. This can be done by adding modifying the `plt.xlabel` and `plt.ylabel` parameters, and re-plotting as shown below:"
   ]
  },
  {
   "cell_type": "code",
   "execution_count": null,
   "metadata": {},
   "outputs": [],
   "source": [
    "# EXERCISE 2 === Fill in this cell as instructed above\n",
    "\n",
    "plt.xlabel('x values (unit)')\n",
    "plt.ylabel('y values (unit)')\n",
    "\n",
    "#<== Insert ONE line here to plot a 'scatter' plot of ytest vs. xtest\n",
    "\n",
    "plt.show()      # This function simply \"shows\" the graph.\n",
    "                # it is not essential to understand how or why it works.\n"
   ]
  },
  {
   "cell_type": "markdown",
   "metadata": {},
   "source": [
    "You will often have to use scientific symbols in your graphs like $\\lambda$ and $\\theta$, and so it is helpful to learn how to do this. \n",
    "\n",
    "Just type out `plt.xlabel(r'$\\lambda$ ($\\mu$ m)')` and\n",
    "`plt.ylabel(r'$\\theta$')` in the cell below and compile it.\n",
    "\n",
    "(The `r` present before the single quotes indicates that it is a \"raw\" string, and the greek letters are called using their $\\LaTeX$ names. You can find out more __[here](https://matplotlib.org/users/mathtext.html)__.)"
   ]
  },
  {
   "cell_type": "code",
   "execution_count": null,
   "metadata": {},
   "outputs": [],
   "source": [
    "# EXERCISE 2 === Fill in this cell as instructed above\n",
    "\n",
    "# <== Insert ONE line of code to to change the x label of the plot\n",
    "# <== Insert ONE line of code to to change the y label of the plot\n",
    "\n",
    "# <== Insert ONE line here to plot a 'scatter' plot of ytest vs. xtest\n",
    "plt.show()      # This function simply \"shows\" the graph.\n",
    "                # it is not essential to understand how or why it works.\n"
   ]
  },
  {
   "cell_type": "markdown",
   "metadata": {},
   "source": [
    "What if you had two sets of data to plot for the same $x$ values? Try out the snippet given below:"
   ]
  },
  {
   "cell_type": "code",
   "execution_count": null,
   "metadata": {},
   "outputs": [],
   "source": [
    "xtest  = [1,2,3]          # A three-element list of x-values\n",
    "y1test = [100,200,300]    # A three-element list of y-values\n",
    "y2test = [50,150,250]\n",
    "plt.scatter(xtest,y1test) # Plotting a 'scatter' plot of y1 vs. x\n",
    "plt.scatter(xtest,y2test) # Plotting a 'scatter' plot of y2 vs. x\n",
    "plt.show()"
   ]
  },
  {
   "cell_type": "markdown",
   "metadata": {},
   "source": [
    "**Plotting your data**\n",
    "\n",
    "***\n",
    "**Exercise 3:** \n",
    "***\n",
    "Let's now create two simple lists of $(x,y)$ data given in this week's handout, and plot a scatter plot of it. You should get something that looks like this:\n",
    "![sampledata](../images/sampledatagraph_1.png)"
   ]
  },
  {
   "cell_type": "code",
   "execution_count": null,
   "metadata": {},
   "outputs": [],
   "source": [
    "# EXERCISE 3 === Fill in this cell as instructed above\n",
    "\n",
    "xval = #<== Insert ONE line here with the x-axis data as a simple list\n",
    "yval = #<== Insert ONE line here with the y-axis data as a simple list\n",
    "\n",
    "plt.scatter(xval,yval)\n",
    "plt.xlabel(r'Voltage (V)')\n",
    "plt.ylabel(r'Current ($\\mu$ A)')\n",
    "plt.show()"
   ]
  },
  {
   "cell_type": "markdown",
   "metadata": {},
   "source": [
    "**NumPy arrays**\n",
    "\n",
    "The \"lists\" that you've seen earlier (such as `[a,b,c]`) are those defined by default in Python. It turns out that the numpy package has its _own_ version of lists, known as **arrays**. We will be using these arrays instead of the standard lists, as they have been optimised for scientific operations.\n",
    "\n",
    "Numpy arrays can simply be created by wrapping the earlier lists with the `np.array` command, i.e. `np.array([list])`.\n",
    "\n",
    "***\n",
    "**Exercise 4:** \n",
    "***\n",
    "In the next cell, define `xval` and `yval` as NumPy arrays, with the same values as above. Nothing should change with your output."
   ]
  },
  {
   "cell_type": "code",
   "execution_count": null,
   "metadata": {},
   "outputs": [],
   "source": [
    "# EXERCISE 4 === Fill in this cell as instructed above\n",
    "\n",
    "# Do the same thing as the previous cell, only this time with NumPy arrays.\n",
    "\n",
    "xval = #<== Insert ONE line here with the x-axis data as a NumPy array\n",
    "yval = #<== Insert ONE line here with the y-axis data as a NumPy array\n",
    "\n",
    "plt.scatter(xval,yval)\n",
    "\n",
    "plt.xlabel(r'Voltage (V)')\n",
    "plt.ylabel(r'Current ($\\mu$ A)')\n",
    "\n",
    "plt.show()\n"
   ]
  },
  {
   "cell_type": "markdown",
   "metadata": {},
   "source": [
    "## Importing data \n",
    "\n",
    "Let's say you've got your data in MS Excel, and you want to use it in Python. If you have very little data, the easiest way to do this is to type it out yourself (as we've done above). However, if you have a large amount of data, it may be better to import a `.csv` file. CSV (or \"Comma Separated Value\") files can very easily be created from spreadsheets like Excel (go to `File`$\\longrightarrow$`Save As`, and select it from the drop-down list).\n",
    "\n",
    "If you are asked to select a delimiter, choose `,`. This does not matter, but let us be consistent. Save the CSV file in the same folder as this Jupyter notebook, and remove all the lines that aren't the actual data.\n",
    "\n",
    "\n",
    "***\n",
    "**Tip:**\n",
    "\n",
    "If creating CSV files is too difficult, here's a quick workaround:\n",
    "\n",
    "1. On Excel, create a column with just your data values, separated by a comma. This can be done easily using the `Concatenate` function in Excel. For example: type `=CONCATENATE(A1,\",\",B1)` into the cell to merge them, separated by a comma.\n",
    "\n",
    "1. Now copy the range you're interested in, and paste it in a `Something.txt` or `Something.csv` file and save it in the \"data\" folder that came along with this Notebook.\n",
    "***\n",
    "\n",
    "#### Sample data file\n",
    "\n",
    "In the \"data\" folder, you will see there is already a file called `exp1_ohm.csv` with sample data. You can access it in the `data` folder. In Jupyter, go to the `File` tab, and click `Open`. Navigate to the `data` folder and open `exp1_ohm.csv`. You will see something that looks like this:\n",
    "\n",
    "![exp1](../images/exp1.png)\n",
    "\n",
    "You will notice that in each row, elements of the two columns are separated by a comma, and that the first rows with the names of these columns and other details have a `#` symbol before them. This is very important! When you import the data into Python, this `#` at the beginning tells the function that's importing the data to ignore these line. (Otherwise, these lines would be a string of letters, and other lines would be numbers, and this wouldn't work). Put the `#` symbol in front of any lines you'd like to ignore while importing.\n",
    "\n",
    "You are now ready to import this data using a simple `loadtxt` function that's present in the `numpy` package. We're going to learn how to do this in a slightly roundabout way:\n",
    "\n",
    "1. Call the `loadtxt` function of the `numpy` package. You will see that it throws an error, since you have not given it the name of the file to load.\n",
    "\n",
    "1. Now, you will start writing out the name as a string. Write out the following first `\"./\"` and then press the `TAB` button on your keyboard. You will see that Jupyter will show you the files in the current working directory (where your code is stored)! Thus, the \"current working directory\" is called `.`.\n",
    "\n",
    "1. You need to get to the `data` folder which is one folder up. The standard way to get to the folder above it by using `../`. Type this out, and press the `TAB` button. \n",
    "\n",
    "1. Select the `data` folder, and then press the `TAB` button again. Now select `exp1_ohm.csv`.\n",
    "\n",
    "1. Running this will _still_ cause an error, since you haven't told Python that the different columns are separated by `,`s. Add a comma after the string, and type out `delimiter = \",\"`. This tells Python that the data in each row is separated (\"delimited\") by commas.\n",
    "\n",
    "***\n",
    "**Tip:** \n",
    "\n",
    "Using the `TAB` key to autocomplete commands is a fantastic trick, useful not only here but also on most UNIX-type machine terminals (like Macs).\n",
    "***\n",
    "\n",
    "**Exercise 5:** \n",
    "***\n",
    "\n",
    "Complete the steps detailed above and run them in the empty cell below, you should get an output that looks like this:<br><br>\n",
    "\n",
    "`array([[ 1.,  3.],\n",
    "       [ 2.,  5.],\n",
    "       [ 3.,  6.],\n",
    "       [ 4.,  7.],\n",
    "       [ 5., 10.],\n",
    "       [ 6., 13.],\n",
    "       [ 7., 15.],\n",
    "       [ 8., 16.],\n",
    "       [ 9., 19.],\n",
    "       [10., 20.],\n",
    "       [11., 22.],\n",
    "       [12., 24.],\n",
    "       [13., 26.],\n",
    "       [14., 29.],\n",
    "       [15., 31.],\n",
    "       [16., 33.],\n",
    "       [17., 35.],\n",
    "       [18., 36.],\n",
    "       [19., 39.],\n",
    "       [20., 41.]])`\n",
    "\n",
    "This is a two-dimensional array (very much like a matrix). It is useful to learn how to manipulate them, and I've added a short optional section about them at the bottom. But for now, we won't really use them since there's a much simpler way to \"unpack\" your data directly in a format you can use.\n",
    "  "
   ]
  },
  {
   "cell_type": "code",
   "execution_count": null,
   "metadata": {},
   "outputs": [],
   "source": [
    "# EXERCISE 5 === Fill in this cell as instructed above\n",
    "\n",
    "#<== Insert ONE line here to load the file exp1_ohm.csv from the data folder\n",
    "\n",
    "\n",
    "\n"
   ]
  },
  {
   "cell_type": "markdown",
   "metadata": {},
   "source": [
    "#### Unpacking data\n",
    "\n",
    "Wouldn't it be nice if Python understood that the first column was one variable's data and the second another variable's data? It turns out that the `NumPy` package allows for just this, using another option called `unpack`.\n",
    "\n",
    "Using this option, you can equate **any number** of variables to this data, and Python will automatically send the first column to the first variable, the second to the second, and so on. Thus, if you did:\n",
    "\n",
    "`x1,x2,x3,...,xn = np.loadtxt(...,unpack=True)`\n",
    "\n",
    "to a file that contained `n` columns, the first column would be stored in `x1`, the second in `x2` and so on!\n",
    "\n",
    "***\n",
    "**Exercise 6:** \n",
    "***\n",
    "In the cell below, write down the code to take the first column as `xpoints`, and the second column as `ypoints`.\n"
   ]
  },
  {
   "cell_type": "code",
   "execution_count": null,
   "metadata": {},
   "outputs": [],
   "source": [
    "# EXERCISE 6 === Fill in this cell as instructed above\n",
    "\n",
    "#<== Insert ONE line here to load the file exp1_ohm.csv from the data folder, \n",
    "# and unpacking by column int two variables `xpoints` and `ypoints`\n",
    "\n",
    "\n",
    "\n"
   ]
  },
  {
   "cell_type": "markdown",
   "metadata": {},
   "source": [
    "## Adding a Trendline\n",
    "\n",
    "Adding a trendline in Python is not as obvious for the simple linear graphs as it was in Microsoft Excel, but provides much more functionality. The idea we will use is the following:\n",
    "\n",
    "1. We will define a function (say) `f` which accepts some parameters (`x,a,b,c...`) (how many depends on what type of function we're fitting) and `return`s a value.\n",
    "\n",
    "1. We will then call `scipy.optimize`'s `curve_fit` function with `f` and our data (`xpoints` and `ypoints`) which will automatically vary the parameters to give us the best values for `a,b,c..`.\n",
    "\n",
    "This is shown in the following snippet:"
   ]
  },
  {
   "cell_type": "code",
   "execution_count": null,
   "metadata": {},
   "outputs": [],
   "source": [
    "def f(x, a, b):         # Define a function `f` which `returns` a value of a*x+b\n",
    "    return a*x + b      # This line makes sure that the function returns the above value\n",
    "\n",
    "par, covariance = curve_fit(f, xpoints, ypoints)\n",
    "\n",
    "print(\"Variable par is this array:\",par)\n",
    "print(\"\")\n",
    "print(\"The slope is:\",par[0], \" and the intercept is: \",par[1])\n",
    "\n",
    "m = np.round(par[0],3)  # We use the `numpy.round` function to round to 3 decimal places\n",
    "c = np.round(par[1],3)"
   ]
  },
  {
   "cell_type": "markdown",
   "metadata": {},
   "source": [
    "The line `par, cov = curve_fit(f, xpoints, ypoints)` might require some explanation: the `curve_fit` function returns **two values** by default, an array with the _parameters_, which we have called `par` here, and an array with the _covariance_ which is a statistical concept that you do not need to interest yourself with now. \n",
    "\n",
    "All you need to know is that `par[0]` is the value of `a` (the slope of your line) and `par[1]` is the value of `b` (its intercept).\n",
    "\n",
    "Let's use this now to create an array of \"theoretical\" $y$ values, using the formula $y(x) = mx + c$ $-$ a straight line."
   ]
  },
  {
   "cell_type": "code",
   "execution_count": null,
   "metadata": {},
   "outputs": [],
   "source": [
    "ytrend = m*xpoints+c     # Creates an array of y values corresponding to the xpoints, \n",
    "                         # which satisfy the trendline given by the parameters in [par]\n",
    "\n",
    "plt.plot(xpoints, ytrend, '--',color=\"red\") # Plot a red dashed line of ytrend vs. xpoints\n",
    "plt.xlabel(r'Voltage (V)')\n",
    "plt.ylabel(r'Current ($\\mu$ A)')\n",
    "plt.show()"
   ]
  },
  {
   "cell_type": "markdown",
   "metadata": {},
   "source": [
    "Now, we can simply _combine_ the above two graphs, as shown below. \n",
    "\n",
    "You can also add an equation using the `plt.text` command, which allows you to add a string of text (here, the variable `eqn`) at specified coordinates (in our case, $x=4$, $y=14$), with font size 12pt. If you're plotting a straight line, you don't need to change `eqn`, it takes the value of the slope and intercept defined earlier, converts them into strings and adds them to the graph. (Placing `{c:+}` simply states that if `c` is a positive number, it is made into a string `\"+c\"` instead of just `\"c\"`(see __[here](https://stackoverflow.com/questions/2763432/how-to-print-the-sign-of-a-digit-for-positive-numbers-in-python)__ for more)."
   ]
  },
  {
   "cell_type": "code",
   "execution_count": null,
   "metadata": {},
   "outputs": [],
   "source": [
    "plt.scatter(xpoints,ypoints)                     # Plotting the data-points\n",
    "plt.plot(xpoints, ytrend, '--',color=\"red\")      # Plotting the trend-line\n",
    "\n",
    "slope_string = round(m,3)                        # Rounding off the slope to 3 digits\n",
    "intercept_string= round(c,3)                     # Rounding off the intercept to 3 digits\n",
    "\n",
    "eqn = 'y(x) = '+f'{slope_string}'+'x'+f'{intercept_string:+}'  # The equation string\n",
    "\n",
    "plt.text(4, 14,eqn,fontsize=12)                  # Displaying the above string\n",
    "\n",
    "\n",
    "plt.xlabel(r'Voltage (V)')                       # Formatting the axes\n",
    "plt.ylabel(r'Current ($\\mu$ A)')\n",
    "plt.show();"
   ]
  },
  {
   "cell_type": "markdown",
   "metadata": {},
   "source": [
    "***\n",
    "<center> **FIN** </center>\n",
    "***"
   ]
  },
  {
   "cell_type": "markdown",
   "metadata": {},
   "source": [
    "## Slightly more advanced topics"
   ]
  },
  {
   "cell_type": "markdown",
   "metadata": {},
   "source": [
    "#### Two-dimensional arrays _(optional)_\n",
    "\n",
    "Sometimes you might want to include your data as an array of $(x,y)$ points, for example something that looks like:\n",
    "\n",
    "`z = [[ 1.  3.],[ 2.  5.],[ 3.  6.],[ 4.  7.],[ 5. 10.],[ 6. 13.],[ 7. 15.],[ 8. 16.],[ 9. 19.],[10. 20.],[11. 22.],[12. 24.],[13. 26.],[14. 29.],[15. 31.],[16. 33.],[17. 35.],[18. 36.],[19. 39.],[20. 41.]]`\n",
    "\n",
    "In this case, to plot it, you would first have to take all the $x$s, and then all the $y$s. We do this using the highly useful `:` symbol as follows:"
   ]
  },
  {
   "cell_type": "code",
   "execution_count": null,
   "metadata": {},
   "outputs": [],
   "source": [
    "z = np.loadtxt(\"../data/exp1_ohm.csv\",delimiter=\",\")\n",
    "\n",
    "print(\"The 2D array z:\")\n",
    "print(z)\n",
    "\n",
    "xpoints = z[:,0]\n",
    "\n",
    "print()\n",
    "print(\"The slice of x values:\")\n",
    "print(xpoints)"
   ]
  },
  {
   "cell_type": "markdown",
   "metadata": {},
   "source": [
    " The `:` symbol here acts like a **wildcard**. Suppose our array $z$ looks as follows: \n",
    " \n",
    "  `[[ 1.  3.]\n",
    " [ 2.  5.]\n",
    " [ 3.  6.]\n",
    " [ 4.  7.]\n",
    " [ 5. 10.]\n",
    " [ 6. 13.]\n",
    " [ 7. 15.]\n",
    " [ 8. 16.]\n",
    " [ 9. 19.]\n",
    " [10. 20.]\n",
    " [11. 22.]\n",
    " [12. 24.]\n",
    " [13. 26.]\n",
    " [14. 29.]\n",
    " [15. 31.]\n",
    " [16. 33.]\n",
    " [17. 35.]\n",
    " [18. 36.]\n",
    " [19. 39.]\n",
    " [20. 41.]]`\n",
    "   \n",
    "   The `:` (called the _slicing_ operator) gives us a 'slice' of the data: **all values in the column on the left**. (This is Column \"0\". Column \"1\" would be the one on the right.)\n",
    "\n",
    "***\n",
    "**Exercise 7:**\n",
    "***\n",
    "\n",
    "Complete the following cell: Write down a line of code to collect the y points and create an array `ypoints`.\n",
    "  "
   ]
  },
  {
   "cell_type": "code",
   "execution_count": null,
   "metadata": {},
   "outputs": [],
   "source": [
    "# EXERCISE 7 === Fill in this cell as instructed above\n",
    "\n",
    "#<== Insert ONE line of code here to get the data as a 2D array z\n",
    "\n",
    "xpoints = z[:,0]\n",
    "#<== Insert ONE line of code here to get the ypoints data"
   ]
  },
  {
   "cell_type": "markdown",
   "metadata": {},
   "source": [
    "#### For those interested in more advanced fits _(optional)_\n",
    "\n",
    "In order to plot a polynomial trendline, we will evaluate this (polynomial) function at the different `xpoints` and plot a dotted line over the earlier graph.\n",
    "\n",
    "In order to do this, we will be using the `numpy.polyval` function which accepts two variables -- an array of coefficients ($[a_{n}, a_{n-1},...,a_2,a_1,a_0]$) and a value of $x$ -- and prints out $y(x) = a_n x^n + a_{n-1} x^{n-1} + ... + a_2 x^2 + a_1 x + a_0$.\n",
    "\n",
    "Thus, calling `np.polyval([a,b],x)` would give you $y(x) = a x + b$. If we used an _array_ of $x$ points, we'd get an _array_ of $y$ values! \n",
    "\n",
    "We'll try to plot the line $y(x) = -x + 4$ to see how it works. The parameters will be `[-1,4]`. The resulting array will contain the values of $y$ at these points."
   ]
  },
  {
   "cell_type": "code",
   "execution_count": null,
   "metadata": {},
   "outputs": [],
   "source": [
    "xvalues = [0,1,2,3,4,5]              # A sample array of x values\n",
    "yvalues = np.polyval([-1,4],xvalues) # y values corresponding to -1*x + 4\n",
    "\n",
    "print(yvalues)                       # Printing out the yvalue array\n",
    "\n",
    "plt.plot(xvalues,yvalues,'--')       # Plotting yvalues vs. xvalues in a line plot, \n",
    "                                     # with a dashed line (given by '--')"
   ]
  },
  {
   "cell_type": "markdown",
   "metadata": {},
   "source": [
    "#### Using np.genfromtxt _(very optional)_\n",
    "\n",
    "Apart from the simple `loadtxt` function, `NumPy` also has a slightly more powerful `genfromtxt` function which allows you to deal with `.csv` files that have missing values and so on. However, at your level, I think there is no difference at all between the two, and `loadtxt` is easier to remember!\n",
    "\n",
    "You can use the `unpack` function here as well, but for illustrative purposes, I have used the slicing operator `:`."
   ]
  },
  {
   "cell_type": "code",
   "execution_count": null,
   "metadata": {},
   "outputs": [],
   "source": [
    "data = np.genfromtxt(\"../data/exp1_ohm.csv\", delimiter=\",\") # Looks in the current directory \n",
    "                                                    # for the csv (or txt) file and \n",
    "                                                    # imports it, with commas being \n",
    "                                                    # treated as delimiters.\n",
    "\n",
    "xpoints = data[:,0]                                 # Get the first column of data, \n",
    "                                                    # saving it to xpoints\n",
    "\n",
    "ypoints = data[:,1]                                 # Idem for second column and ypoints.\n",
    "\n",
    "plt.scatter(xpoints,ypoints)\n",
    "plt.xlabel(r'Voltage (V)')\n",
    "plt.ylabel(r'Current ($\\mu$ A)')\n",
    "plt.show()"
   ]
  }
 ],
 "metadata": {
  "kernelspec": {
   "display_name": "Python 3",
   "language": "python",
   "name": "python3"
  },
  "language_info": {
   "codemirror_mode": {
    "name": "ipython",
    "version": 3
   },
   "file_extension": ".py",
   "mimetype": "text/x-python",
   "name": "python",
   "nbconvert_exporter": "python",
   "pygments_lexer": "ipython3",
   "version": "3.7.4"
  }
 },
 "nbformat": 4,
 "nbformat_minor": 2
}
