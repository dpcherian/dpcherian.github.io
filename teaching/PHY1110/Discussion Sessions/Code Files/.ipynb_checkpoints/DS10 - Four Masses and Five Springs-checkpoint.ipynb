{
 "cells": [
  {
   "cell_type": "code",
   "execution_count": 1,
   "metadata": {},
   "outputs": [],
   "source": [
    "from sympy import*\n",
    "init_printing()"
   ]
  },
  {
   "cell_type": "code",
   "execution_count": 29,
   "metadata": {},
   "outputs": [],
   "source": [
    "k,m,w0,w = symbols('k,m,\\omega_0,\\omega')\n",
    "m1,m2 = symbols('m_1,m_2')"
   ]
  },
  {
   "cell_type": "code",
   "execution_count": 12,
   "metadata": {},
   "outputs": [
    {
     "data": {
      "image/png": "[encoded data removed]",
      "text/latex": [
       "$\\displaystyle \\left[\\begin{matrix}2 & -1 & 0 & 0\\\\-1 & 2 & -1 & 0\\\\0 & -1 & 2 & -1\\\\0 & 0 & -1 & 2\\end{matrix}\\right]$"
      ],
      "text/plain": [
       "⎡2   -1  0   0 ⎤\n",
       "⎢              ⎥\n",
       "⎢-1  2   -1  0 ⎥\n",
       "⎢              ⎥\n",
       "⎢0   -1  2   -1⎥\n",
       "⎢              ⎥\n",
       "⎣0   0   -1  2 ⎦"
      ]
     },
     "metadata": {},
     "output_type": "display_data"
    }
   ],
   "source": [
    "W = w0**2*Matrix([[2,-1,0,0],[-1,2,-1,0],[0,-1,2,-1],[0,0,-1,2]])\n",
    "\n",
    "display(W)\n",
    "w0=1"
   ]
  },
  {
   "cell_type": "code",
   "execution_count": 13,
   "metadata": {},
   "outputs": [
    {
     "data": {
      "image/png": "[encoded data removed]",
      "text/latex": [
       "$\\displaystyle \\left[ \\frac{3}{2} - \\frac{\\sqrt{5}}{2}, \\  \\frac{5}{2} - \\frac{\\sqrt{5}}{2}, \\  \\frac{\\sqrt{5}}{2} + \\frac{3}{2}, \\  \\frac{\\sqrt{5}}{2} + \\frac{5}{2}\\right]$"
      ],
      "text/plain": [
       "⎡3   √5  5   √5  √5   3  √5   5⎤\n",
       "⎢─ - ──, ─ - ──, ── + ─, ── + ─⎥\n",
       "⎣2   2   2   2   2    2  2    2⎦"
      ]
     },
     "execution_count": 13,
     "metadata": {},
     "output_type": "execute_result"
    }
   ],
   "source": [
    "solve(det(W - w**2*eye(4)),w**2)"
   ]
  },
  {
   "cell_type": "code",
   "execution_count": 14,
   "metadata": {},
   "outputs": [
    {
     "data": {
      "image/png": "[encoded data removed]",
      "text/latex": [
       "$\\displaystyle \\left\\{ \\frac{3}{2} - \\frac{\\sqrt{5}}{2} : 1, \\  \\frac{5}{2} - \\frac{\\sqrt{5}}{2} : 1, \\  \\frac{\\sqrt{5}}{2} + \\frac{3}{2} : 1, \\  \\frac{\\sqrt{5}}{2} + \\frac{5}{2} : 1\\right\\}$"
      ],
      "text/plain": [
       "⎧3   √5     5   √5     √5   3     √5   5   ⎫\n",
       "⎨─ - ──: 1, ─ - ──: 1, ── + ─: 1, ── + ─: 1⎬\n",
       "⎩2   2      2   2      2    2     2    2   ⎭"
      ]
     },
     "execution_count": 14,
     "metadata": {},
     "output_type": "execute_result"
    }
   ],
   "source": [
    "W.eigenvals()"
   ]
  },
  {
   "cell_type": "code",
   "execution_count": 18,
   "metadata": {},
   "outputs": [],
   "source": [
    "evecs = W.eigenvects()"
   ]
  },
  {
   "cell_type": "code",
   "execution_count": 26,
   "metadata": {},
   "outputs": [
    {
     "data": {
      "image/png": "[encoded data removed]",
      "text/latex": [
       "$\\displaystyle \\left[\\begin{matrix}1\\\\\\frac{1}{2} + \\frac{\\sqrt{5}}{2}\\\\\\frac{1}{2} + \\frac{\\sqrt{5}}{2}\\\\1\\end{matrix}\\right]$"
      ],
      "text/plain": [
       "⎡  1   ⎤\n",
       "⎢      ⎥\n",
       "⎢1   √5⎥\n",
       "⎢─ + ──⎥\n",
       "⎢2   2 ⎥\n",
       "⎢      ⎥\n",
       "⎢1   √5⎥\n",
       "⎢─ + ──⎥\n",
       "⎢2   2 ⎥\n",
       "⎢      ⎥\n",
       "⎣  1   ⎦"
      ]
     },
     "metadata": {},
     "output_type": "display_data"
    },
    {
     "data": {
      "image/png": "[encoded data removed]",
      "text/latex": [
       "$\\displaystyle \\left[\\begin{matrix}-1\\\\\\frac{1}{2} - \\frac{\\sqrt{5}}{2}\\\\- \\frac{1}{2} + \\frac{\\sqrt{5}}{2}\\\\1\\end{matrix}\\right]$"
      ],
      "text/plain": [
       "⎡   -1   ⎤\n",
       "⎢        ⎥\n",
       "⎢ 1   √5 ⎥\n",
       "⎢ ─ - ── ⎥\n",
       "⎢ 2   2  ⎥\n",
       "⎢        ⎥\n",
       "⎢  1   √5⎥\n",
       "⎢- ─ + ──⎥\n",
       "⎢  2   2 ⎥\n",
       "⎢        ⎥\n",
       "⎣   1    ⎦"
      ]
     },
     "metadata": {},
     "output_type": "display_data"
    },
    {
     "data": {
      "image/png": "[encoded data removed]",
      "text/latex": [
       "$\\displaystyle \\left[\\begin{matrix}1\\\\\\frac{1}{2} - \\frac{\\sqrt{5}}{2}\\\\\\frac{1}{2} - \\frac{\\sqrt{5}}{2}\\\\1\\end{matrix}\\right]$"
      ],
      "text/plain": [
       "⎡  1   ⎤\n",
       "⎢      ⎥\n",
       "⎢1   √5⎥\n",
       "⎢─ - ──⎥\n",
       "⎢2   2 ⎥\n",
       "⎢      ⎥\n",
       "⎢1   √5⎥\n",
       "⎢─ - ──⎥\n",
       "⎢2   2 ⎥\n",
       "⎢      ⎥\n",
       "⎣  1   ⎦"
      ]
     },
     "metadata": {},
     "output_type": "display_data"
    },
    {
     "data": {
      "image/png": "[encoded data removed]",
      "text/latex": [
       "$\\displaystyle \\left[\\begin{matrix}-1\\\\\\frac{1}{2} + \\frac{\\sqrt{5}}{2}\\\\- \\frac{\\sqrt{5}}{2} - \\frac{1}{2}\\\\1\\end{matrix}\\right]$"
      ],
      "text/plain": [
       "⎡   -1   ⎤\n",
       "⎢        ⎥\n",
       "⎢ 1   √5 ⎥\n",
       "⎢ ─ + ── ⎥\n",
       "⎢ 2   2  ⎥\n",
       "⎢        ⎥\n",
       "⎢  √5   1⎥\n",
       "⎢- ── - ─⎥\n",
       "⎢  2    2⎥\n",
       "⎢        ⎥\n",
       "⎣   1    ⎦"
      ]
     },
     "metadata": {},
     "output_type": "display_data"
    }
   ],
   "source": [
    "for i in range(0,len(evecs)):\n",
    "    display(simplify(evecs[i][2][0]))"
   ]
  },
  {
   "cell_type": "code",
   "execution_count": 32,
   "metadata": {},
   "outputs": [],
   "source": [
    "m2 = Matrix([[2*k/m1, k/m1],[k/m2,-k/m2]])"
   ]
  },
  {
   "cell_type": "code",
   "execution_count": 38,
   "metadata": {},
   "outputs": [
    {
     "data": {
      "image/png": "[encoded data removed]",
      "text/latex": [
       "$\\displaystyle \\left[\\begin{matrix}- \\frac{2 m_{2}}{m_{1} + 2 m_{2} + \\sqrt{m_{1}^{2} + 8 m_{1} m_{2} + 4 m_{2}^{2}}}\\\\1\\end{matrix}\\right]$"
      ],
      "text/plain": [
       "⎡                -2⋅m₂                 ⎤\n",
       "⎢──────────────────────────────────────⎥\n",
       "⎢               _______________________⎥\n",
       "⎢              ╱   2                 2 ⎥\n",
       "⎢m₁ + 2⋅m₂ + ╲╱  m₁  + 8⋅m₁⋅m₂ + 4⋅m₂  ⎥\n",
       "⎢                                      ⎥\n",
       "⎣                  1                   ⎦"
      ]
     },
     "metadata": {},
     "output_type": "display_data"
    },
    {
     "data": {
      "image/png": "[encoded data removed]",
      "text/latex": [
       "$\\displaystyle \\left[\\begin{matrix}- \\frac{2 m_{2}}{m_{1} + 2 m_{2} - \\sqrt{m_{1}^{2} + 8 m_{1} m_{2} + 4 m_{2}^{2}}}\\\\1\\end{matrix}\\right]$"
      ],
      "text/plain": [
       "⎡                -2⋅m₂                 ⎤\n",
       "⎢──────────────────────────────────────⎥\n",
       "⎢               _______________________⎥\n",
       "⎢              ╱   2                 2 ⎥\n",
       "⎢m₁ + 2⋅m₂ - ╲╱  m₁  + 8⋅m₁⋅m₂ + 4⋅m₂  ⎥\n",
       "⎢                                      ⎥\n",
       "⎣                  1                   ⎦"
      ]
     },
     "metadata": {},
     "output_type": "display_data"
    }
   ],
   "source": [
    "evecs2 = m2.eigenvects()\n",
    "for i in range(0,len(evecs2)):\n",
    "    display(simplify(evecs2[i][2][0]))"
   ]
  },
  {
   "cell_type": "code",
   "execution_count": null,
   "metadata": {},
   "outputs": [],
   "source": []
  }
 ],
 "metadata": {
  "kernelspec": {
   "display_name": "Python 3",
   "language": "python",
   "name": "python3"
  },
  "language_info": {
   "codemirror_mode": {
    "name": "ipython",
    "version": 3
   },
   "file_extension": ".py",
   "mimetype": "text/x-python",
   "name": "python",
   "nbconvert_exporter": "python",
   "pygments_lexer": "ipython3",
   "version": "3.8.5"
  }
 },
 "nbformat": 4,
 "nbformat_minor": 4
}
