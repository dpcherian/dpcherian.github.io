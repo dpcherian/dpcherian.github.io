{
 "cells": [
  {
   "cell_type": "code",
   "execution_count": 4,
   "metadata": {},
   "outputs": [],
   "source": [
    "# Importing the necessary packages\n",
    "from sympy import *\n",
    "import matplotlib.pyplot as plt"
   ]
  },
  {
   "cell_type": "code",
   "execution_count": 5,
   "metadata": {},
   "outputs": [
    {
     "data": {
      "text/latex": [
       "$\\displaystyle \\left[\\begin{matrix}1 - r_{1} & r_{2}\\\\r_{1} & 1 - r_{2}\\end{matrix}\\right]$"
      ],
      "text/plain": [
       "Matrix([\n",
       "[1 - r_1,     r_2],\n",
       "[    r_1, 1 - r_2]])"
      ]
     },
     "metadata": {},
     "output_type": "display_data"
    }
   ],
   "source": [
    "r_1,r_2,n = symbols('r_1,r_2,n')       # Defining new symbols. You can use LaTeX here\n",
    "\n",
    "M = Matrix([[1-r_1,r_2],[r_1,1-r_2]])  # Defining the transition matrix\n",
    "\n",
    "display(M)                             # Display the answer (it's like printing, for symbolic objects)"
   ]
  },
  {
   "cell_type": "code",
   "execution_count": 7,
   "metadata": {},
   "outputs": [
    {
     "data": {
      "image/png": "[encoded data removed]",
      "text/plain": [
       "<Figure size 432x288 with 1 Axes>"
      ]
     },
     "metadata": {
      "needs_background": "light"
     },
     "output_type": "display_data"
    }
   ],
   "source": [
    "# Numerical values of parameters ############\n",
    "\n",
    "rONE=0.3\n",
    "rTWO=0.2\n",
    "\n",
    "#############################################\n",
    "\n",
    "\n",
    "M = M.subs(r_1,rONE).subs(r_2,rTWO)         # Substitute the values of r_1 and r_2 in the matrix\n",
    "\n",
    "psi_0 = Matrix([9,1])                       # Initial state\n",
    "\n",
    "psi_n = M**n*psi_0                          # Arbitrary state psi_n\n",
    "\n",
    "\n",
    "# Determining psi_\\inf ######################\n",
    "\n",
    "psi_n_inf = []                              # Start off with an empty vector, psi_n_inf\n",
    "\n",
    "for el in psi_n:                            # For each element in psi_n\n",
    "    psi_n_inf.append(Limit(el,n,oo).doit()) # take the limit n -> \\infty, and add it to psi_n_inf\n",
    "\n",
    "\n",
    "psi_n_inf = Matrix(psi_n_inf)               # Make psi_n_inf into a matrix object\n",
    "\n",
    "\n",
    "# Calculating psi_n at different n ##########\n",
    "\n",
    "temp = psi_0                                # Starting state\n",
    "\n",
    "S_list = []                                 # Lists for S, I,and t\n",
    "I_list = []\n",
    "t_list = []\n",
    "\n",
    "S_list.append(9)                            # Initialising them\n",
    "I_list.append(1)\n",
    "t_list.append(0)\n",
    "\n",
    "\n",
    "for i in range(0,100,3):                    # For every time-step\n",
    "    temp = M*temp                           # Find M^i temp\n",
    "    S_list.append(temp[0])                  # Append the values of the lists\n",
    "    I_list.append(temp[1])\n",
    "    t_list.append(i)\n",
    "\n",
    "# Graph the results #########################\n",
    "plt.xlabel('Time(n)')                       \n",
    "plt.ylabel('Number')\n",
    "plt.plot(t_list,S_list,'o-')\n",
    "plt.plot(t_list,I_list,'o-')\n",
    "plt.show()\n",
    "#############################################"
   ]
  },
  {
   "cell_type": "code",
   "execution_count": 7,
   "metadata": {},
   "outputs": [],
   "source": [
    "def SIS(r_1,r_2,init_S,init_I):\n",
    "    \n",
    "    M = Matrix([[1-r_1,r_2],[r_1,1-r_2]])       # Defining the transition matrix\n",
    "\n",
    "    psi_0 = Matrix([init_S,init_I])             # Initial state\n",
    "             \n",
    "    psi_n = M**n*psi_0                          # Arbitrary state psi_n\n",
    "\n",
    "    # Determining psi_\\inf ######################\n",
    "\n",
    "    psi_n_inf = []                              # Start off with an empty vector, psi_n_inf\n",
    "\n",
    "    for el in psi_n:                            # For each element in psi_n\n",
    "        psi_n_inf.append(Limit(el,n,oo).doit()) # take the limit n -> \\infty, and add it to psi_n_inf\n",
    "\n",
    "\n",
    "    psi_n_inf = Matrix(psi_n_inf)               # Make psi_n_inf into a matrix object\n",
    "\n",
    "    # Calculating psi_n at different n ##########\n",
    "\n",
    "    temp = psi_0                                # Starting state\n",
    "\n",
    "    S_list = []                                 # Lists for S, I,and t\n",
    "    I_list = []\n",
    "    t_list = []\n",
    "\n",
    "    S_list.append(init_S)                       # Initialising them\n",
    "    I_list.append(init_I)\n",
    "    t_list.append(0)\n",
    "\n",
    "    for i in range(1,20,1):                     # For every time-step\n",
    "        temp = M*temp                           # Find M^i temp\n",
    "        S_list.append(temp[0])                  # Append the values of the list\n",
    "        I_list.append(temp[1])\n",
    "        t_list.append(i)\n",
    "\n",
    "    # Graph the results #########################\n",
    "    plt.xlabel('Time(n)')                      \n",
    "    plt.ylabel('Number')\n",
    "    plt.plot(t_list,S_list,'o-')\n",
    "    plt.plot(t_list,I_list,'o-')\n",
    "    plt.show()\n",
    "    #############################################"
   ]
  },
  {
   "cell_type": "code",
   "execution_count": 8,
   "metadata": {},
   "outputs": [
    {
     "data": {
      "image/png": "[encoded data removed]",
      "text/plain": [
       "<Figure size 432x288 with 1 Axes>"
      ]
     },
     "metadata": {
      "needs_background": "light"
     },
     "output_type": "display_data"
    }
   ],
   "source": [
    "SIS(0.3,0.2,55,45)"
   ]
  },
  {
   "cell_type": "code",
   "execution_count": null,
   "metadata": {},
   "outputs": [],
   "source": []
  }
 ],
 "metadata": {
  "kernelspec": {
   "display_name": "Python 3",
   "language": "python",
   "name": "python3"
  },
  "language_info": {
   "codemirror_mode": {
    "name": "ipython",
    "version": 3
   },
   "file_extension": ".py",
   "mimetype": "text/x-python",
   "name": "python",
   "nbconvert_exporter": "python",
   "pygments_lexer": "ipython3",
   "version": "3.6.9"
  }
 },
 "nbformat": 4,
 "nbformat_minor": 4
}
