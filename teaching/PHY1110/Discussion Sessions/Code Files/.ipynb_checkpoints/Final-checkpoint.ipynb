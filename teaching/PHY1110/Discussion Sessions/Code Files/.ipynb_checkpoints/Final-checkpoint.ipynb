{
 "cells": [
  {
   "cell_type": "code",
   "execution_count": 1,
   "metadata": {},
   "outputs": [],
   "source": [
    "import numpy as np\n",
    "import matplotlib.pyplot as plt"
   ]
  },
  {
   "cell_type": "code",
   "execution_count": 2,
   "metadata": {},
   "outputs": [],
   "source": [
    "def a(x,v):\n",
    "    return -x/t1**2 - v/t2"
   ]
  },
  {
   "cell_type": "code",
   "execution_count": 22,
   "metadata": {},
   "outputs": [],
   "source": [
    "t = 0\n",
    "tf= 12*np.pi\n",
    "dt = 0.01\n",
    "\n",
    "N = int(tf/dt)\n",
    "\n",
    "x = np.zeros(N+1,float)\n",
    "v = np.zeros(N+1,float)\n",
    "t = np.zeros(N+1,float)\n",
    "\n",
    "# Setting up initial conditions #\n",
    "\n",
    "x0 = 1\n",
    "v0 = 0\n",
    "\n",
    "t1=2\n",
    "t2=1\n",
    "#################################\n",
    "\n",
    "x[0] = x0\n",
    "v[0] = v0 + a(x0,v0)*dt/2\n",
    "\n",
    "for i in range(1,N+1):\n",
    "    t[i] = i*dt\n",
    "    x[i] = x[i-1] + v[i-1]*dt\n",
    "    v[i] = v[i-1] + a(x[i],v[i-1])*dt\n"
   ]
  },
  {
   "cell_type": "code",
   "execution_count": 23,
   "metadata": {
    "scrolled": true
   },
   "outputs": [
    {
     "data": {
      "image/png": "[encoded data removed]",
      "text/plain": [
       "<Figure size 432x288 with 1 Axes>"
      ]
     },
     "metadata": {
      "needs_background": "light"
     },
     "output_type": "display_data"
    }
   ],
   "source": [
    "#plt.figure(figsize=(20,10))\n",
    "plt.scatter(t,x)\n",
    "plt.savefig('dh1')\n",
    "plt.show()\n"
   ]
  },
  {
   "cell_type": "code",
   "execution_count": null,
   "metadata": {},
   "outputs": [],
   "source": []
  },
  {
   "cell_type": "code",
   "execution_count": null,
   "metadata": {},
   "outputs": [],
   "source": []
  }
 ],
 "metadata": {
  "kernelspec": {
   "display_name": "Python 3",
   "language": "python",
   "name": "python3"
  },
  "language_info": {
   "codemirror_mode": {
    "name": "ipython",
    "version": 3
   },
   "file_extension": ".py",
   "mimetype": "text/x-python",
   "name": "python",
   "nbconvert_exporter": "python",
   "pygments_lexer": "ipython3",
   "version": "3.6.9"
  }
 },
 "nbformat": 4,
 "nbformat_minor": 2
}
