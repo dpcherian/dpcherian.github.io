{
 "cells": [
  {
   "cell_type": "markdown",
   "metadata": {},
   "source": [
    "# The One-Body Problem"
   ]
  },
  {
   "cell_type": "markdown",
   "metadata": {},
   "source": [
    "## Importing Packages"
   ]
  },
  {
   "cell_type": "code",
   "execution_count": 35,
   "metadata": {},
   "outputs": [],
   "source": [
    "# Importing packages needed\n",
    "import numpy as np\n",
    "import matplotlib.pyplot as plt"
   ]
  },
  {
   "cell_type": "markdown",
   "metadata": {},
   "source": [
    "## Solving the problem numerically\n",
    "\n",
    "### The Dynamics"
   ]
  },
  {
   "cell_type": "markdown",
   "metadata": {},
   "source": [
    "##### Defining the constants of the problem"
   ]
  },
  {
   "cell_type": "code",
   "execution_count": 117,
   "metadata": {},
   "outputs": [],
   "source": [
    "G = 6.673e-11        # Newton's Constant in MKS units\n",
    "M = 1.99e30          # The mass of the Sun in kilograms\n",
    "GM = G * M           # Defined for ease\n",
    "AU = 149597870700.0  # Earth-Sun distance in metres\n",
    "yr = 365*24*60*60.0  # One year in seconds\n",
    "myr = 88*24*60*60.0  # One mercurial year in seconds\n",
    "c = 299792458.0      # Speed of light in MKS units\n",
    "rs = 1.0*GM/c**2     # Schwarzschild radius of sun"
   ]
  },
  {
   "cell_type": "markdown",
   "metadata": {},
   "source": [
    "##### Defining the dynamics (the acceleration) from Newton's Laws"
   ]
  },
  {
   "cell_type": "code",
   "execution_count": 118,
   "metadata": {},
   "outputs": [],
   "source": [
    "def aVec(rVec):\n",
    "    x = rVec[0]                   # Extracting x and y\n",
    "    y = rVec[1]                   # from rVec\n",
    "    \n",
    "    r     = (x**2 + y**2)**(0.5)\n",
    "    RCube = (x**2 + y**2)**(1.5)  # Computing r**3 to simplify calculations\n",
    "    \n",
    "    ax = -GM*x/RCube*(1 + 3*rs/r) # Computing the acceleration vector's components\n",
    "    ay = -GM*y/RCube*(1 + 3*rs/r) # from Newton's Laws\n",
    "    \n",
    "    return np.array([ax,ay])      # Return a \"vector\""
   ]
  },
  {
   "cell_type": "markdown",
   "metadata": {},
   "source": [
    "### The Kinematics\n",
    "\n",
    "##### Setting the initial conditions"
   ]
  },
  {
   "cell_type": "code",
   "execution_count": 135,
   "metadata": {},
   "outputs": [],
   "source": [
    "t_initial = 0                   # Initial time\n",
    "t_final   = 100*myr                # Final time\n",
    "dt = 1000.0                     # Time-step of 1 hour\n",
    "N = int((t_final-t_initial)/dt) # Number of time-steps \n",
    "\n",
    "r0 = 0.39*AU                       # Magnitude of distance from the sun\n",
    "v0 = 1.3*2*np.pi*r0/myr              # Magnitude of velocity for a circular orbit\n",
    "r0Vec = r0*np.array([1.0,0.0])  # The initial position vector, along x-axis\n",
    "v0Vec = v0*np.array([0.0,1.0])  # The initial velcoity vector, along y-axis"
   ]
  },
  {
   "cell_type": "markdown",
   "metadata": {},
   "source": [
    "##### Defining the arrays to store data and the leapfrog method"
   ]
  },
  {
   "cell_type": "code",
   "execution_count": 136,
   "metadata": {},
   "outputs": [],
   "source": [
    "rVecs = np.zeros((N+1,2),float)       # An array of 2D vectors of length N+1 for position\n",
    "vVecs = np.zeros((N+1,2),float)       # An array of 2D vectors of length N+1 for velocity\n",
    "t     = np.zeros(N+1,float)           # An array of length N+1 for time\n",
    "\n",
    "rVecs[0] = r0Vec                      # Setting the initial position to r0Vec\n",
    "vVecs[0] = v0Vec + aVec(rVecs[0])*dt/2 # Setting the initial velocity using the leapfrog method\n",
    "\n",
    "\n",
    "### Arrays to test our solution ###\n",
    "\n",
    "energyArray = np.zeros(N+1, float)\n",
    "LArray      = np.zeros(N+1, float)\n",
    "\n",
    "energyArray[0] = energyPM(r0Vec,v0Vec)\n",
    "LArray[0] = LPM(r0Vec,v0Vec)"
   ]
  },
  {
   "cell_type": "markdown",
   "metadata": {},
   "source": [
    "##### Solving the kinematics"
   ]
  },
  {
   "cell_type": "code",
   "execution_count": 137,
   "metadata": {},
   "outputs": [],
   "source": [
    "for i in range(1,N+1):\n",
    "    t[i]     = i*dt\n",
    "    rVecs[i] = rVecs[i-1] + vVecs[i-1]*dt\n",
    "    vVecs[i] = vVecs[i-1] + aVec(rVecs[i])*dt\n",
    "    \n",
    "    ### Calculating our conserved quantities ###\n",
    "    \n",
    "    energyArray[i] = energyPM(rVecs[i],vVecs[i])\n",
    "    LArray[i]      = LPM(rVecs[i],vVecs[i])"
   ]
  },
  {
   "cell_type": "markdown",
   "metadata": {},
   "source": [
    "### Plotting the solution"
   ]
  },
  {
   "cell_type": "code",
   "execution_count": 138,
   "metadata": {},
   "outputs": [
    {
     "data": {
      "image/png": "[encoded data removed]",
      "text/plain": [
       "<Figure size 432x288 with 1 Axes>"
      ]
     },
     "metadata": {
      "needs_background": "light"
     },
     "output_type": "display_data"
    }
   ],
   "source": [
    "xArray = rVecs[:,0]         # Slicing out the x-values from rVec\n",
    "yArray = rVecs[:,1]         # Slicing out the y-values from rVec\n",
    "\n",
    "plt.plot(xArray,yArray)    # Plotting y vs. x\n",
    "\n",
    "plt.axis('equal')          # Matplotlib commands to make the plot axes equal and change the labels\n",
    "plt.xlabel(\"X(t)\")\n",
    "plt.ylabel(\"Y(t)\")\n",
    "\n",
    "plt.show()"
   ]
  },
  {
   "cell_type": "code",
   "execution_count": null,
   "metadata": {},
   "outputs": [],
   "source": []
  },
  {
   "cell_type": "markdown",
   "metadata": {},
   "source": [
    "## Testing our solution\n",
    "\n",
    "### Defining our 'conserved quantity' functions\n",
    "\n",
    "#### The Energy $E$\n",
    "\n",
    "The total energy of the object (which is a conserved quantity) depends on the total kinetic energy and the total potential energy. The kinetic energy depends on the velocity `vVec` of the object, and the potential energy $V(r)$ depends on the force law, which in turn depends on the position vector `rVec` of the object. \n",
    "\n",
    "The total energy is given by $E = T + V$, which, in our case is:\n",
    "\n",
    "$$ E = \\frac{1}{2} m v^2 - \\frac{G M m}{r}.$$\n",
    "\n",
    "Clearly, since $m$ (the mass of our object) is unchanging, we can define an 'energy per unit mass' which must also be conserved. $$ E_\\text{pm} = \\frac{1}{2} v^2 - \\frac{G M}{r}.$$\n",
    "\n",
    "Thus, the `energyPM` function depends on `energyPM(rVec,vVec)`. In particular, we also know that they depend on the magnitudes of the `rVec` and `vVec` vectors."
   ]
  },
  {
   "cell_type": "code",
   "execution_count": 101,
   "metadata": {},
   "outputs": [],
   "source": [
    "def energyPM(rVec, vVec):\n",
    "    # Finding the magnitude of the vectors\n",
    "    r = np.linalg.norm(rVec)\n",
    "    v = np.linalg.norm(vVec)\n",
    "    \n",
    "    return 0.5*v**2 - GM/r  # Return the energy per unit mass"
   ]
  },
  {
   "cell_type": "markdown",
   "metadata": {},
   "source": [
    "#### The Angular Momentum $L$\n",
    "\n",
    "Another conserved quantity in this problem is the angular momentum, which again depends on the position and velocity vectors `rVec` and `vVec`. The angular momentum is defined as $L = \\vec{r} \\times \\vec{p}$. In our case (since the mass is unchanging), this is $$\\vec{L} = m \\left( \\vec{r} \\times \\vec{v}\\right).$$\n",
    "\n",
    "As before, we can defined an 'angular momentum per unit mass', which must also be conserved. $\\vec{L}_\\text{pm} = \\vec{r} \\times \\vec{v}$. This is a vector condition. A weaker condition is to say that the magnitude of the angular momentum must also be conserved, i.e. $L_\\text{pm} = x v_y - y v_x = \\text{constant}$, which is what we will use."
   ]
  },
  {
   "cell_type": "code",
   "execution_count": 102,
   "metadata": {},
   "outputs": [],
   "source": [
    "def LPM(rVec,vVec):\n",
    "    # Getting the x and y components of rVec and vVec \n",
    "    x = rVec[0]\n",
    "    y = rVec[1]\n",
    "    vx= vVec[0]\n",
    "    vy= vVec[1]\n",
    "    \n",
    "    return x*vy - y*vx # Returning their 'cross product'. Can also be done with np.linalg.cross"
   ]
  },
  {
   "cell_type": "markdown",
   "metadata": {},
   "source": [
    "### Plotting our conserved quantities"
   ]
  },
  {
   "cell_type": "code",
   "execution_count": 56,
   "metadata": {},
   "outputs": [
    {
     "data": {
      "image/png": "[encoded data removed]",
      "text/plain": [
       "<Figure size 432x288 with 1 Axes>"
      ]
     },
     "metadata": {
      "needs_background": "light"
     },
     "output_type": "display_data"
    },
    {
     "data": {
      "image/png": "[encoded data removed]",
      "text/plain": [
       "<Figure size 432x288 with 1 Axes>"
      ]
     },
     "metadata": {
      "needs_background": "light"
     },
     "output_type": "display_data"
    }
   ],
   "source": [
    "plt.plot(t,(LArray-LArray[0])/LArray[0])  # Plotting the normalised angular momentum\n",
    "plt.show()                                # Show the plot\n",
    "\n",
    "plt.plot(t,(energyArray-energyArray[0])/energyArray[0]) # Plotting the normalised energy\n",
    "plt.show()                                              # Show the plot"
   ]
  },
  {
   "cell_type": "code",
   "execution_count": null,
   "metadata": {},
   "outputs": [],
   "source": []
  }
 ],
 "metadata": {
  "kernelspec": {
   "display_name": "Python 3",
   "language": "python",
   "name": "python3"
  },
  "language_info": {
   "codemirror_mode": {
    "name": "ipython",
    "version": 3
   },
   "file_extension": ".py",
   "mimetype": "text/x-python",
   "name": "python",
   "nbconvert_exporter": "python",
   "pygments_lexer": "ipython3",
   "version": "3.6.9"
  }
 },
 "nbformat": 4,
 "nbformat_minor": 4
}
