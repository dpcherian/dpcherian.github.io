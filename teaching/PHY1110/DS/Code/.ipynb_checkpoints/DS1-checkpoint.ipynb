{
 "cells": [
  {
   "cell_type": "code",
   "execution_count": 2,
   "metadata": {},
   "outputs": [],
   "source": [
    "from pylab import *"
   ]
  },
  {
   "cell_type": "code",
   "execution_count": 3,
   "metadata": {},
   "outputs": [],
   "source": [
    "prec = 6\n",
    "g=9.8"
   ]
  },
  {
   "cell_type": "code",
   "execution_count": 4,
   "metadata": {},
   "outputs": [],
   "source": [
    "def y(t,a):\n",
    "    return 0.5*a*t**2"
   ]
  },
  {
   "cell_type": "code",
   "execution_count": 9,
   "metadata": {},
   "outputs": [
    {
     "name": "stdout",
     "output_type": "stream",
     "text": [
      "dT= 0.1 v(0) =  0.49\n",
      "dT= 0.01 v(0) =  0.049\n",
      "dT= 0.001 v(0) =  0.0049\n",
      "dT= 0.0001 v(0) =  0.00049\n",
      "dT= 1e-05 v(0) =  4.9e-05\n",
      "dT= 1e-06 v(0) =  5e-06\n",
      "dT= 1e-07 v(0) =  0.0\n",
      "dT= 1e-08 v(0) =  0.0\n",
      "dT= 1e-09 v(0) =  0.0\n",
      "dT= 1e-10 v(0) =  0.0\n",
      "dT= 1e-11 v(0) =  0.0\n",
      "dT= 1e-12 v(0) =  0.0\n",
      "dT= 1e-13 v(0) =  0.0\n",
      "dT= 1e-14 v(0) =  0.0\n",
      "dT= 1e-15 v(0) =  0.0\n"
     ]
    }
   ],
   "source": [
    "timeStepArray = [0.1,0.01,0.001,0.0001,0.00001,0.000001,0.0000001,0.00000001,0.000000001,0.0000000001,0.00000000001,0.000000000001,0.0000000000001,0.00000000000001,0.000000000000001]\n",
    "\n",
    "for deltaT in timeStepArray:\n",
    "    v = (y(deltaT,g)-y(0,g))/deltaT\n",
    "    print(\"dT=\",deltaT,\"v(0) = \",round(v,prec))"
   ]
  },
  {
   "cell_type": "code",
   "execution_count": 11,
   "metadata": {},
   "outputs": [
    {
     "name": "stdout",
     "output_type": "stream",
     "text": [
      "dT= 0.1 v(0) =  4.9\n",
      "dT= 0.01 v(0) =  0.49\n",
      "dT= 0.001 v(0) =  0.049\n",
      "dT= 0.0001 v(0) =  0.0049\n",
      "dT= 1e-05 v(0) =  0.00049\n",
      "dT= 1.0000000000000002e-06 v(0) =  4.9e-05\n",
      "dT= 1.0000000000000002e-07 v(0) =  5e-06\n",
      "dT= 1.0000000000000002e-08 v(0) =  0.0\n",
      "dT= 1.0000000000000003e-09 v(0) =  0.0\n"
     ]
    }
   ],
   "source": [
    "deltaT = 1\n",
    "dv=0.1\n",
    "v=1\n",
    "while dv>0:\n",
    "    vtemp=v\n",
    "    v=round((y(deltaT,g)-y(0,g))/deltaT,prec)\n",
    "    dv = round(abs(v-vtemp),prec)\n",
    "    deltaT=deltaT/10\n",
    "    print(\"dT=\",deltaT,\"v(0) = \",round(v,prec))\n",
    "    "
   ]
  },
  {
   "cell_type": "code",
   "execution_count": null,
   "metadata": {},
   "outputs": [],
   "source": []
  },
  {
   "cell_type": "code",
   "execution_count": null,
   "metadata": {},
   "outputs": [],
   "source": []
  }
 ],
 "metadata": {
  "kernelspec": {
   "display_name": "Python 3",
   "language": "python",
   "name": "python3"
  },
  "language_info": {
   "codemirror_mode": {
    "name": "ipython",
    "version": 3
   },
   "file_extension": ".py",
   "mimetype": "text/x-python",
   "name": "python",
   "nbconvert_exporter": "python",
   "pygments_lexer": "ipython3",
   "version": "3.6.9"
  }
 },
 "nbformat": 4,
 "nbformat_minor": 4
}
