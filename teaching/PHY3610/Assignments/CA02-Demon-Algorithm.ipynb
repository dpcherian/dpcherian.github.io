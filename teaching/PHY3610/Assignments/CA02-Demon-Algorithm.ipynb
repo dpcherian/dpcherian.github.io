{
 "cells": [
  {
   "cell_type": "markdown",
   "id": "3f287ac3",
   "metadata": {},
   "source": [
    "# Demonic Dealings"
   ]
  },
  {
   "cell_type": "code",
   "execution_count": null,
   "id": "eb943fa7",
   "metadata": {},
   "outputs": [],
   "source": [
    "import numpy as np\n",
    "import matplotlib.pyplot as plt\n",
    "plt.rcParams['figure.dpi'] = 100\n",
    "\n",
    "# from numba import njit          # Import this if you're using @njit to speed up your code"
   ]
  },
  {
   "cell_type": "code",
   "execution_count": null,
   "id": "b74535e7",
   "metadata": {},
   "outputs": [],
   "source": [
    "# @njit                                        # Once you've written your code using only Numpy arrays, you can choose to speed it up using this command\n",
    "def oneMCS(v, systemEnergy, demonEnergy):\n",
    "    '''\n",
    "    Perform one Monte-Carlo \"sweep\", with the demon running over all the particles once\n",
    "    and trying to change each particle's velocity.\n",
    "\n",
    "    Parameters:\n",
    "    -----------\n",
    "    • v            : An array of `N` elements storing the velocity of each particle at the start of this sweep.\n",
    "    • systemEnergy : A number containing the energy of the system at the start of this sweep.\n",
    "    • demonEnergy  : A number containing the energy of the demon at the start of this sweep.\n",
    "   \n",
    "    Returns:\n",
    "    --------\n",
    "    The function returns three values:\n",
    "    • v            : An array of `N` elements storing the velocity of each particle at the end of this sweep.\n",
    "    • systemEnergy : A number containing the energy of the system at the end of this sweep.\n",
    "    • demonEnergy  : A number containing the energy of the demon at the end of this sweep.\n",
    "   \n",
    "    '''\n",
    "    \n",
    "    \n",
    "    maxdv =     # <-- Choose an appropriate value. You can vary this later and see how it affects your code.\n",
    "    \n",
    "    ## In the lines that follow, implement the algorithm given in the assignment.\n",
    "    ## It should take roughly 20 lines of code.\n",
    "    \n",
    "    \n",
    "    return v, systemEnergy, demonEnergy"
   ]
  },
  {
   "cell_type": "code",
   "execution_count": null,
   "id": "18620e26",
   "metadata": {},
   "outputs": [],
   "source": [
    "def simulate(N, E, n_mcsweeps = 10_000):\n",
    "    '''\n",
    "    Perform a simulation of `n_mcsweeps` Monte-Carlo sweeps.\n",
    "\n",
    "    Parameters:\n",
    "    -----------\n",
    "    • N           : The number of particles of our gas.\n",
    "    • E           : The total energy of the system.\n",
    "    • n_mcsweeps  : Number of Monte-Carlo sweeps to perform.\n",
    "   \n",
    "    Returns:\n",
    "    --------\n",
    "    The function returns two values:\n",
    "    • systemEnergyArray : An array containing the energy of the system at each MC sweep.\n",
    "    • demonEnergyArray  : An array containing the energy of the demon at each MC sweep.\n",
    "   \n",
    "    '''\n",
    "\n",
    "    v0 =                                # <-- Set the uniform initial particle velocity, \n",
    "                                        #     v0 as function of E and N\n",
    "    v = np.ones(N)*v0\n",
    "\n",
    "    demonEnergyArray  = np.zeros(n_mcsweeps)   # Arrays to store the demon and \n",
    "    systemEnergyArray = np.zeros(n_mcsweeps)   # system energies\n",
    "    \n",
    "    demonEnergyArray[0]  =                     # <-- Set the initial demon energy\n",
    "    systemEnergyArray[0] =                     # <-- Set the initial system energy\n",
    "\n",
    "    \n",
    "    ####### No need to edit the rest of this cell unless you want to #######\n",
    "    for mc in range(1,n_mcsweeps):         # Run n_mcsweeps\n",
    "        # Explanation of the following line: At each step, the _previous_ value \n",
    "        # of the demon and system energies are sent in as inputs to `oneMCS`, \n",
    "        # and their current values are updated\n",
    "        v, systemEnergyArray[mc], demonEnergyArray[mc] = oneMCS(demonEnergy=demonEnergyArray[mc-1], systemEnergy=systemEnergyArray[mc-1], v=v)\n",
    "\n",
    "    return systemEnergyArray, demonEnergyArray"
   ]
  },
  {
   "cell_type": "code",
   "execution_count": null,
   "id": "8c66ba34",
   "metadata": {},
   "outputs": [],
   "source": [
    "%%time\n",
    "# This cell should take ~ 15 s without using Numba, and ~ 200 ms with it\n",
    "N=100\n",
    "system1, demon1 = simulate(N=N, E=15)\n",
    "system2, demon2 = simulate(N=N, E=25)"
   ]
  },
  {
   "cell_type": "code",
   "execution_count": null,
   "id": "d77c8d4c",
   "metadata": {},
   "outputs": [],
   "source": [
    "average_Ed1_over_mcs =  # <-- Fill in these two arrays to store the average \n",
    "average_Ed2_over_mcs =  # <-- demon energy over MC sweeps for each case\n",
    "\n",
    "plt.plot(average_Ed1_over_mcs, label=r\"$\\langle E_d^{1}\\rangle$\", color='firebrick')\n",
    "plt.plot(average_Ed2_over_mcs, label=r\"$\\langle E_d^{2}\\rangle$\", color='darkgoldenrod')\n",
    "plt.ylabel(r\"$\\langle E_d\\rangle$\")\n",
    "plt.xlabel(r\"Monte-Carlo Sweeps\")\n",
    "plt.yscale('log')\n",
    "plt.xscale('log')\n",
    "plt.legend()\n",
    "plt.show()"
   ]
  },
  {
   "cell_type": "code",
   "execution_count": null,
   "id": "7d03a285",
   "metadata": {},
   "outputs": [],
   "source": [
    "cutoff1 =  # <-- Either visually or by some other method, define a cutoff number of MC sweeps\n",
    "cutoff2 =  # <-- beyond which the average energy is stable, once for each case\n",
    "\n",
    "mean_Es1_pp = np.mean(system1[-cutoff1:])/N    # The last `cutoff1` readings are averaged per particle\n",
    "mean_Ed1    = np.mean(demon1[-cutoff1:])       # The last `cutoff1` readings are averaged for the demon\n",
    "\n",
    "mean_Es2_pp = np.mean(system2[-cutoff2:])/N    # The same is done for the second case\n",
    "mean_Ed2    = np.mean(demon2[-cutoff2:])\n",
    "\n",
    "print(\"CASE 1: Mean system energy per particle:\",mean_Es1_pp,\" Mean demon energy\", mean_Ed1, \". Ratio =\",mean_Es1_pp/mean_Ed1)\n",
    "print(\"CASE 2: Mean system energy per particle:\",mean_Es2_pp,\" Mean demon energy\", mean_Ed2, \". Ratio =\",mean_Es2_pp/mean_Ed2)"
   ]
  },
  {
   "cell_type": "markdown",
   "id": "808884a5",
   "metadata": {},
   "source": [
    "<div class=\"alert alert-block alert-success\">\n",
    "\n",
    "The remainder of this code file is left to you: you will need to plot a histogram of the demon's energy for both the cases given in the assignment, and show that it matches the analytical result obtained in part (c). Compute the temperature $T$.\n",
    "</div>\n",
    "\n",
    "<div class=\"alert alert-block alert-info\">\n",
    "\n",
    "<b>Note:</b> The `plt.hist` function has a useful `density` parameter that can be set to `True` if the quantities being binned are to be considered as probability densities. This is particularly useful if we want to compare the simulation data to theoretically predicted probability densities. \n",
    "</div> \n",
    "\n",
    "<div class=\"alert alert-block alert-success\">\n",
    "    \n",
    "Two optional parts that will be very instructive:\n",
    "\n",
    "1. Go back and refine your \"approximate\" result in part (b) by plotting $T$ as a function of $\\langle E_s \\rangle$. (This will be faster if you use Numba.)\n",
    "2. Repeat this exercise for $d=2$ and $3$ dimensions. Does the following relation still hold? $$\\langle E_s \\rangle = \\frac{1}{2} N T$$\n",
    "</div>"
   ]
  }
 ],
 "metadata": {
  "kernelspec": {
   "display_name": "Python 3 (ipykernel)",
   "language": "python",
   "name": "python3"
  },
  "language_info": {
   "codemirror_mode": {
    "name": "ipython",
    "version": 3
   },
   "file_extension": ".py",
   "mimetype": "text/x-python",
   "name": "python",
   "nbconvert_exporter": "python",
   "pygments_lexer": "ipython3",
   "version": "3.10.13"
  }
 },
 "nbformat": 4,
 "nbformat_minor": 5
}
