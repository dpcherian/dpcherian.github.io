{
 "cells": [
  {
   "cell_type": "markdown",
   "id": "2d231e68",
   "metadata": {},
   "source": [
    "# Random Walks"
   ]
  },
  {
   "cell_type": "code",
   "execution_count": null,
   "id": "01c16ce4",
   "metadata": {},
   "outputs": [],
   "source": [
    "import numpy as np                # Import NumPy package\n",
    "import matplotlib.pyplot as plt   # Import Matplotlib package to plot graphs\n",
    "plt.rcParams['figure.dpi'] = 100  # Set the figure dpi to 100 globally\n",
    "\n",
    "# from numba import njit # Uncomment this line if you want to use Numba to speed up your code."
   ]
  },
  {
   "cell_type": "code",
   "execution_count": null,
   "id": "571089cd",
   "metadata": {},
   "outputs": [],
   "source": [
    "# @njit  # Uncomment this line if you want to use Numba to speed up your code.\n",
    "def walk(n_steps=10_000):\n",
    "    '''\n",
    "    This function produces a single random walk with a specific number of steps.\n",
    "\n",
    "    Parameters:\n",
    "    -----------\n",
    "    • n_steps : The number of steps in the random walk.\n",
    "   \n",
    "    Returns:\n",
    "    --------\n",
    "    The function returns one value:\n",
    "    • r: An (n_steps x 2) array containing each individual step of the random walk. \n",
    "         Each step has 2 coordinates, i.e. (x,y).\n",
    "    '''\n",
    "    \n",
    "    r = np.zeros(shape=(n_steps, 2), dtype=np.int32)  # A 2D array of zeros to store the \n",
    "                                                      # (x,y) coordinates of each of the N steps\n",
    "        \n",
    "        # Q3(a) ====> Fill this in using the algorithm provided.\n",
    "        \n",
    "        # Later, in Q3(d) ====> implement periodic boundary conditions in this function.\n",
    "        \n",
    "    return r                                          # Finally, return the history of this random walk"
   ]
  },
  {
   "cell_type": "code",
   "execution_count": null,
   "id": "c9d425db",
   "metadata": {},
   "outputs": [],
   "source": [
    "# This function has been written for you, you don't need to edit it. \n",
    "def simulate(n_walks = 50, n_steps = 10_000, bc=False, L=30):\n",
    "    '''\n",
    "    A function to simulate multiple random walks of some number of steps, with or without boundary conditions.\n",
    "    This function has been written for you, you don't need to edit it unless you want to.\n",
    "\n",
    "    Parameters:\n",
    "    -----------\n",
    "    • n_walks : The number of random walks to simulate.\n",
    "    • n_steps : The number of steps in each random walk.\n",
    "    • bc      : A boolean variable that decides if periodic boundary conditions in a box are enforced or not.\n",
    "    • L       : The box-size is given by 2L if periodic boundary conditions are enforced.\n",
    "\n",
    "    Returns:\n",
    "    --------\n",
    "    The function returns one value:\n",
    "    • all_walks: An (n_walks x n_steps x 2) array containing each individual step of each random walk. \n",
    "                 The first dimension is the walk-number, the second the step-number, and the third the \n",
    "                 third the coordinate (x or y).\n",
    "    '''\n",
    "    \n",
    "    all_walks = np.zeros((n_walks, n_steps, 2))   # Array to store data of each walk\n",
    "\n",
    "    for w in range(n_walks):                      # For each walk,\n",
    "\n",
    "        cmap = plt.colormaps['viridis']           # Each colour will be chosen from the `viridis` cmap, with\n",
    "        d_color = 1/n_walks                       # \"spacing\" between colours of 1/n_walks, so the full map is used\n",
    "\n",
    "        rw = walk(n_steps=n_steps, bc=bc, L=L)    # Simulate a random walk ith required parameters\n",
    "        all_walks[w] = rw                         # Store the simulated walk in `all_walks`\n",
    "        \n",
    "        # Plot the random walk\n",
    "        plt.plot(rw[:,0], rw[:,1], marker='o', ms=0.01, color=cmap(w*d_color), alpha=1)\n",
    "    \n",
    "    plt.ylabel(r\"$y$\")\n",
    "    plt.xlabel(r\"$x$\")\n",
    "\n",
    "    # Plot the origin of the walks. The zorder variable decides which plot is plotted after which one,\n",
    "    # and makes sure that the scatter point is visible and not plotted _underneath_ the other plots.\n",
    "    plt.scatter(0, 0, color='firebrick', s=10, zorder=n_walks+1)        \n",
    "    plt.gca().set_aspect('equal') # Set the aspect ratio of the axis to equal, so a square looks like a square\n",
    "    \n",
    "    return all_walks # Return the final array of all the walks"
   ]
  },
  {
   "cell_type": "code",
   "execution_count": null,
   "id": "e86ae9b4",
   "metadata": {},
   "outputs": [],
   "source": [
    "%%time\n",
    "# This cell stores all the walk data for 50 walks of 10_000 steps each in `all_walks`. It should take about\n",
    "# 10 seconds to run, if no errors have been made.\n",
    "\n",
    "all_walks = simulate() # Q3(b) ====> Run this."
   ]
  },
  {
   "cell_type": "code",
   "execution_count": null,
   "id": "8b1234b8",
   "metadata": {},
   "outputs": [],
   "source": [
    "def plot_evolution(all_walks, plot_L=200):\n",
    "    '''\n",
    "    A function to plot the evolution of generated multiple random walks.\n",
    "    This function has been written for you, you don't need to edit it unless you want to.\n",
    "\n",
    "    Parameters:\n",
    "    -----------\n",
    "    • all_walks : Position data of a group of random walks, as a 3D array of dimension (n_walks x n_steps x 2).\n",
    "    • plot_L    : x and y limits of the resulting plot are taken to be -plot_L and plot_L respectively.\n",
    "\n",
    "    Returns:\n",
    "    --------\n",
    "    NoneType (A plot).\n",
    "\n",
    "    '''\n",
    "    \n",
    "    n_walks = len(all_walks)    # Number of walks\n",
    "    n_steps = len(all_walks[0]) # Number of steps per walk\n",
    "    \n",
    "    ncols=5                     # Number of intervals. Plotted as columns in a figure below\n",
    "    \n",
    "    del_steps = n_steps//ncols  # Steps per interval. The double-slash indicates \"integer-division\" eg 5//3=1.\n",
    "\n",
    "    # Define a figure and a set of axes of 1 row and 5 columns (default) and some figure size\n",
    "    fig, axes = plt.subplots(nrows=1, ncols=ncols, figsize=(4*ncols,4))\n",
    "\n",
    "    cmap = plt.colormaps['viridis'] # Set the colour map\n",
    "    d_color = 1/n_walks             # and the interval between colours, as before, so that the full map is used\n",
    "\n",
    "    axes[0].set_ylabel(r\"$y$\")\n",
    "    \n",
    "    for i in range(ncols):          # For each interval,\n",
    "\n",
    "        axes[i].scatter(0, 0, color='firebrick', s=10, zorder=n_walks+1)  # Plot the start-point of the walk\n",
    "\n",
    "        # \"Clip\" the walk so that the first `(i+1)*del_steps` steps is chosen for each walk.\n",
    "        # This will look confusing for those of you not familiar with NumPy, but you will get used to it by the\n",
    "        # end of the course! You don't _need_ to write code like this, but it makes things faster.\n",
    "        clipped_walks = all_walks[:,:(i+1)*del_steps,:]                   \n",
    "        \n",
    "        # For each \"clipped walk\"\n",
    "        for j in range(n_walks):\n",
    "            # Plot the walk in the appropriate column of the figure (i.e. in axes[i]) with a different colour\n",
    "            axes[i].scatter(clipped_walks[j,:,0], clipped_walks[j,:,1],  s=0.1, color=cmap(j*d_color), alpha=1, zorder=i)\n",
    "        \n",
    "        axes[i].set_xlim(-plot_L,plot_L) # Set the axes limits based on the `plot_L` parameter\n",
    "        axes[i].set_ylim(-plot_L,plot_L) # The result is always square\n",
    "        axes[i].set_aspect('equal')      # Set the axes aspect ratio to be square\n",
    "        axes[i].set_xlabel(r\"$x$\")       # Set the x-label for each plot\n",
    "        \n",
    "    plt.tight_layout()"
   ]
  },
  {
   "cell_type": "code",
   "execution_count": null,
   "id": "bac2f315",
   "metadata": {},
   "outputs": [],
   "source": [
    "%%time\n",
    "# This cell plots the evolution of the walks stored in the `all_walks` variable created above.\n",
    "\n",
    "plot_evolution(all_walks) # Q3(b) ====> Run this as well."
   ]
  },
  {
   "cell_type": "code",
   "execution_count": null,
   "id": "a4d46d2c",
   "metadata": {},
   "outputs": [],
   "source": [
    "def get_Rsq(walk):\n",
    "    '''\n",
    "    A function get how the R-squared values change over the evolution of a single random walk.\n",
    "\n",
    "    Parameters:\n",
    "    -----------\n",
    "    • walk  : Position data of a single of random walk, as a 2D array of dimension (n_steps x 2).\n",
    "\n",
    "    Returns:\n",
    "    --------\n",
    "    The function returns a single value:\n",
    "    • Rsq  : Array of same length as `walk`, with R-squared values at everu point between the \n",
    "             start and the end of the walk.\n",
    "\n",
    "    '''  \n",
    "    \n",
    "    Rsq = np.zeros(len(walk))\n",
    "    \n",
    "    # Q3(c) =====> Fill in the `Rsq` array with the value of R-squared at every step in `walk`.\n",
    "        \n",
    "    return Rsq"
   ]
  },
  {
   "cell_type": "code",
   "execution_count": null,
   "id": "3303c776",
   "metadata": {},
   "outputs": [],
   "source": [
    "# Finding R-squared values for all walks\n",
    "\n",
    "all_Rsq = np.zeros((len(all_walks), len(all_walks[0])))  # Define array to store R-squared data for each walk\n",
    "\n",
    "# Q3(c) ====> Fill this in. For each walk, get and store the R-squared data in the all_Rsq array.\n"
   ]
  },
  {
   "cell_type": "code",
   "execution_count": null,
   "id": "4e18cfc9",
   "metadata": {},
   "outputs": [],
   "source": [
    "# Q3(c) ====> Fill this in. \n",
    "#             Plot the averaged R-squared data (averaged over _walks_) as a function of the number of steps."
   ]
  },
  {
   "cell_type": "code",
   "execution_count": null,
   "id": "cdf3237c",
   "metadata": {},
   "outputs": [],
   "source": [
    "# Q3(d) ====> Fill this in.\n",
    "#             Implement periodic boundary conditions, and repeat all the results in Q3(a)--Q3(c)."
   ]
  }
 ],
 "metadata": {
  "kernelspec": {
   "display_name": "Python 3 (ipykernel)",
   "language": "python",
   "name": "python3"
  },
  "language_info": {
   "codemirror_mode": {
    "name": "ipython",
    "version": 3
   },
   "file_extension": ".py",
   "mimetype": "text/x-python",
   "name": "python",
   "nbconvert_exporter": "python",
   "pygments_lexer": "ipython3",
   "version": "3.10.13"
  }
 },
 "nbformat": 4,
 "nbformat_minor": 5
}
